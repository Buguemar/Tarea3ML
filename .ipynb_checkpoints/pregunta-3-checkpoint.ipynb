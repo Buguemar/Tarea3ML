{
 "cells": [
  {
   "cell_type": "markdown",
   "metadata": {},
   "source": [
    "# Calidad de un vino\n",
    "\n",
    "Dentro de las muchas variedades de vino existentes, algunas gustan m´as que otras, esto es debido al gusto de una persona en particular o bien a la gran cantidad de qu´ımicos y procesos que se aplican a la producción de vino. Para el área de negocios, el estimar cu´al es la calidad de un vino en base a la apreciaci´on del p´ublico es una tarea bastante dif´ıcil.\n",
    "Para esta actividad se trabajar´a con dos datasets asociados a las variantes tinto y blanco del vino portugu´es ”Vinho Verde”[4]. Debido a temas privados solo se cuenta con las caracter´ıstcas fisioqu´ımicas asociadas a unvino en particular, los cuales corresponden a 11 atributos num´ericos descritos en el siguiente link. Este problema puede ser abordado como clasificaci´on de 11 clases o de regresi´on, ya que el atributo a estimar, quality, es un valor entero entre 0 y 10\n",
    "\n",
    "\n",
    "\n",
    "##### http://archive.ics.uci.edu/ml/machine-learning-databases/wine-quality/winequality.names"
   ]
  },
  {
   "cell_type": "markdown",
   "metadata": {},
   "source": [
    "#### a. Carge los dos dataset en un único dataframe de pandas, además de agregar una columna indicando si es vino tinto o blanco. Describa el dataset a trabajar\n"
   ]
  },
  {
   "cell_type": "code",
   "execution_count": null,
   "metadata": {
    "collapsed": true
   },
   "outputs": [],
   "source": [
    "import pandas as pd\n",
    "2 df_red = pd.read_csv(\"winequality-red.csv\",sep=\";\")\n",
    "3 df_white = pd.read_csv(\"winequality-white.csv\",sep=\";\")\n",
    "4 df = pd.concat([df_red,df_white], axis=0)\n",
    "5 #genere atributo 'tipo'"
   ]
  },
  {
   "cell_type": "markdown",
   "metadata": {},
   "source": [
    "#### b. Aborde este problema como si fuera de clasificación binaria para predecir si un vino es de buena calidad o no, es decir, utilice las distintas características fisioquímicas presentes en los datos para estimar esta etiqueta. Para esto cree las matrices de entrenamiento y de pruebas, además de la etiqueta para ambos conjuntos, considerando como quality mayor a 5 un vino de buena calidad. El conjunto de pruebas (25 %) será utilizado únicamente para verificar la calidad de los algoritmos a entrenar."
   ]
  },
  {
   "cell_type": "code",
   "execution_count": null,
   "metadata": {
    "collapsed": true
   },
   "outputs": [],
   "source": [
    "df['good_quality'] = [1 if q>5 else 0 for q in df.quality] #then remove 'quality' from df\n",
    "2 #train and test split over df"
   ]
  },
  {
   "cell_type": "code",
   "execution_count": null,
   "metadata": {
    "collapsed": true
   },
   "outputs": [],
   "source": [
    "Entrene un solo Arbol de Clasificaci´on de m´ultiples niveles para resolver el problema. Puede variar los ´\n",
    "hiper-par´ametros que prefiera, recuerde que las decisiones no pueden ser basadas mirando el conjunto\n",
    "de pruebas. Debido al desbalanceo que se produce en las dos clases mida la m´etrica F1-score [5] sobre\n",
    "el conjunto de entrenamiento y de pruebas"
   ]
  },
  {
   "cell_type": "code",
   "execution_count": null,
   "metadata": {
    "collapsed": true
   },
   "outputs": [],
   "source": []
  },
  {
   "cell_type": "code",
   "execution_count": null,
   "metadata": {
    "collapsed": true
   },
   "outputs": [],
   "source": [
    "Entrene un ensamblador de ´arboles de m´ultiples niveles, mediante la t´ecnica de Random Forest. Var´ıe la\n",
    "cantidad de ´arboles de decisi´on utilizados en el ensamblado (n estimators), realice un gr´afico resumen\n",
    "del F1-score de entrenamiento y de pruebas en funci´on de este hiper-par´ametro"
   ]
  },
  {
   "cell_type": "code",
   "execution_count": null,
   "metadata": {
    "collapsed": true
   },
   "outputs": [],
   "source": [
    "from sklearn.ensemble import RandomForestClassifier\n",
    "2 model = RandomForestClassifier(n_estimators=, max_depth=,n_jobs=-1)\n",
    "3 from sklearn.metrics import f1_score\n",
    "4 f1_score(y_true, y_pred)"
   ]
  },
  {
   "cell_type": "code",
   "execution_count": null,
   "metadata": {
    "collapsed": true
   },
   "outputs": [],
   "source": [
    "Entrene un ensamblador de ´arboles de m´ultiples niveles, mediante la t´ecnica de AdaBoost. Var´ıe la\n",
    "cantidad de ´arboles de decisi´on utilizados en el ensamblado (n estimators), realice un gr´afico resumen\n",
    "del F1-score de entrenamiento y de pruebas en funci´on de este hiper-par´ametro. Compare y analice con\n",
    "la t´ecnica utilizada en d)."
   ]
  },
  {
   "cell_type": "code",
   "execution_count": null,
   "metadata": {
    "collapsed": true
   },
   "outputs": [],
   "source": [
    "from sklearn.ensemble import AdaBoostClassifier\n",
    "2 model = AdaBoostClassifier(base_estimator=Tree(max_depth=), n_estimators=)"
   ]
  },
  {
   "cell_type": "code",
   "execution_count": null,
   "metadata": {
    "collapsed": true
   },
   "outputs": [],
   "source": [
    "Entrene alguna otra m´aquina de aprendizaje, elegida por usted, para resolver este problema. Elija los\n",
    "hiper-par´ametros que estime convenientes intentando aumentar el F1-score obtenido por los algoritmos\n",
    "anteriores. Compare y analice estas 4 maneras de resolver el problema definido en b)."
   ]
  },
  {
   "cell_type": "code",
   "execution_count": null,
   "metadata": {
    "collapsed": true
   },
   "outputs": [],
   "source": []
  },
  {
   "cell_type": "code",
   "execution_count": null,
   "metadata": {
    "collapsed": true
   },
   "outputs": [],
   "source": [
    "Defina un criterio para estimar la importancia de los distintos atributos en el ensamblado de Random\n",
    "Forest, implementelo sobre alguno de los ensambladores entrenados en d), haga un ranking de\n",
    "importancia de atributos ¿Es posible implementar este criterio sobre una t´ecnica de boost como lo es\n",
    "AdaBoost?"
   ]
  }
 ],
 "metadata": {
  "kernelspec": {
   "display_name": "Python 3",
   "language": "python",
   "name": "python3"
  },
  "language_info": {
   "codemirror_mode": {
    "name": "ipython",
    "version": 3
   },
   "file_extension": ".py",
   "mimetype": "text/x-python",
   "name": "python",
   "nbconvert_exporter": "python",
   "pygments_lexer": "ipython3",
   "version": "3.6.2"
  }
 },
 "nbformat": 4,
 "nbformat_minor": 2
}
