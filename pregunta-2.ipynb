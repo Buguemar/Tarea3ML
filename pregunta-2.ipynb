{
 "cells": [
  {
   "cell_type": "markdown",
   "metadata": {},
   "source": [
    "# Tarea 3 Machine Learning - Métodos no Lineales"
   ]
  },
  {
   "cell_type": "markdown",
   "metadata": {},
   "source": [
    "Juan Pablo Muñoz - 201373522-3\n",
    "\n",
    "Margarita Bugueño Pérez - 201373510-K"
   ]
  },
  {
   "cell_type": "markdown",
   "metadata": {},
   "source": [
    "## 2. Bike Sharing: Predicción de Demanda Horaria"
   ]
  },
  {
   "cell_type": "markdown",
   "metadata": {},
   "source": [
    "En esta parte, se simula la participación en el desafío *Bike Sharing Demand* de *Kaggle*. El objetivo, es obtener un puntaje igual o menor a $0.37748$. La función de puntaje a utilizar es la siguiente:\n",
    "\n",
    "\\begin{equation}\n",
    "E_{bikes}(y,\\hat{y}) = \\frac{1}{n} \\sum_i (\\ln(y_i + 1) - \\ln(\\hat{y}_i + 1))^2\n",
    "\\end{equation}\n",
    "\n",
    "Donde $y, \\hat{y} \\in \\mathbb{R}^n$ son los vectores de observaciones y predicciones, respectivamente. Notar que esta métrica de puntaje se basa en una medida de *distancia* entre lo predicho y lo esperado, por lo que, entre menor sea el valor del puntaje, mejor éste será, ya que $y$ e $\\hat{y}$ están más cercanos entre sí.\n",
    "\n",
    "La descripción del dataset a utilizar es la siguiente.\n",
    "\n",
    "| Atributo   | Descripción                                                                            |\n",
    "|------------|----------------------------------------------------------------------------------------|\n",
    "| datetime   | Hora del día + *timestamp*                                                             |\n",
    "| season     | 1 = primavera                                                                          |\n",
    "|            | 2 = verano                                                                             |\n",
    "|            | 3 = otoño                                                                              |\n",
    "|            | 4 = invierno                                                                           |\n",
    "| holiday    | Si el día es considerado feriado                                                       |\n",
    "| workingday | Si el día no es ni fin de semana ni feriado                                            |\n",
    "| weather    | 1: Despejado, Nubosidad leve, Parcialmente nublado                                     |\n",
    "|            | 2: Niebla+Nublado, Niebla+Nubosidad Parcial, Niebla+Nubosidad leve, Niebla             |\n",
    "|            | 3: Nieve ligera, Lluvia ligera+Relámpagos+Nubosidad leve, Lluvia ligera+Nubosidad leve |\n",
    "|            | 4: Lluvia fuerte+Granizo+Relámpagos+Niebla, Nieve+Niebla                               |\n",
    "| temp       | Temperatura en ºC                                                                      |\n",
    "| atemp      | Sensación térmica en ºC                                                                |\n",
    "| humidity   | Humedad relativa                                                                       |\n",
    "| windspeed  | Velocidad del viento                                                                   |\n",
    "| casual     | Número de rentas hechas por usuarios no registrados en el día                          |\n",
    "| registered | Número de rentas hechas por usuarios registrados en el día                             |\n",
    "| count      | Total de rentas realizadas en el día                                                   |"
   ]
  },
  {
   "cell_type": "markdown",
   "metadata": {},
   "source": [
    "#### (a) Cargar los datos de entrenamiento, validación y pruebas en *dataframes* y extracción de atributo *hour* desde el timestamp del atributo *datetime*."
   ]
  },
  {
   "cell_type": "code",
   "execution_count": 1,
   "metadata": {},
   "outputs": [
    {
     "name": "stdout",
     "output_type": "stream",
     "text": [
      "\n",
      "Summary - dataframe completo:\n",
      "\n"
     ]
    },
    {
     "data": {
      "text/html": [
       "<div>\n",
       "<style>\n",
       "    .dataframe thead tr:only-child th {\n",
       "        text-align: right;\n",
       "    }\n",
       "\n",
       "    .dataframe thead th {\n",
       "        text-align: left;\n",
       "    }\n",
       "\n",
       "    .dataframe tbody tr th {\n",
       "        vertical-align: top;\n",
       "    }\n",
       "</style>\n",
       "<table border=\"1\" class=\"dataframe\">\n",
       "  <thead>\n",
       "    <tr style=\"text-align: right;\">\n",
       "      <th></th>\n",
       "      <th>Unnamed: 0</th>\n",
       "      <th>season</th>\n",
       "      <th>holiday</th>\n",
       "      <th>workingday</th>\n",
       "      <th>weather</th>\n",
       "      <th>temp</th>\n",
       "      <th>atemp</th>\n",
       "      <th>humidity</th>\n",
       "      <th>windspeed</th>\n",
       "      <th>casual</th>\n",
       "      <th>registered</th>\n",
       "      <th>count</th>\n",
       "    </tr>\n",
       "  </thead>\n",
       "  <tbody>\n",
       "    <tr>\n",
       "      <th>count</th>\n",
       "      <td>10886.000000</td>\n",
       "      <td>10886.000000</td>\n",
       "      <td>10886.000000</td>\n",
       "      <td>10886.000000</td>\n",
       "      <td>10886.000000</td>\n",
       "      <td>10886.00000</td>\n",
       "      <td>10886.000000</td>\n",
       "      <td>10886.000000</td>\n",
       "      <td>10886.000000</td>\n",
       "      <td>10886.000000</td>\n",
       "      <td>10886.000000</td>\n",
       "      <td>10886.000000</td>\n",
       "    </tr>\n",
       "    <tr>\n",
       "      <th>mean</th>\n",
       "      <td>5442.500000</td>\n",
       "      <td>2.506614</td>\n",
       "      <td>0.028569</td>\n",
       "      <td>0.680875</td>\n",
       "      <td>1.418427</td>\n",
       "      <td>20.23086</td>\n",
       "      <td>23.655084</td>\n",
       "      <td>61.886460</td>\n",
       "      <td>12.799395</td>\n",
       "      <td>36.021955</td>\n",
       "      <td>155.552177</td>\n",
       "      <td>191.574132</td>\n",
       "    </tr>\n",
       "    <tr>\n",
       "      <th>std</th>\n",
       "      <td>3142.661849</td>\n",
       "      <td>1.116174</td>\n",
       "      <td>0.166599</td>\n",
       "      <td>0.466159</td>\n",
       "      <td>0.633839</td>\n",
       "      <td>7.79159</td>\n",
       "      <td>8.474601</td>\n",
       "      <td>19.245033</td>\n",
       "      <td>8.164537</td>\n",
       "      <td>49.960477</td>\n",
       "      <td>151.039033</td>\n",
       "      <td>181.144454</td>\n",
       "    </tr>\n",
       "    <tr>\n",
       "      <th>min</th>\n",
       "      <td>0.000000</td>\n",
       "      <td>1.000000</td>\n",
       "      <td>0.000000</td>\n",
       "      <td>0.000000</td>\n",
       "      <td>1.000000</td>\n",
       "      <td>0.82000</td>\n",
       "      <td>0.760000</td>\n",
       "      <td>0.000000</td>\n",
       "      <td>0.000000</td>\n",
       "      <td>0.000000</td>\n",
       "      <td>0.000000</td>\n",
       "      <td>1.000000</td>\n",
       "    </tr>\n",
       "    <tr>\n",
       "      <th>25%</th>\n",
       "      <td>2721.250000</td>\n",
       "      <td>2.000000</td>\n",
       "      <td>0.000000</td>\n",
       "      <td>0.000000</td>\n",
       "      <td>1.000000</td>\n",
       "      <td>13.94000</td>\n",
       "      <td>16.665000</td>\n",
       "      <td>47.000000</td>\n",
       "      <td>7.001500</td>\n",
       "      <td>4.000000</td>\n",
       "      <td>36.000000</td>\n",
       "      <td>42.000000</td>\n",
       "    </tr>\n",
       "    <tr>\n",
       "      <th>50%</th>\n",
       "      <td>5442.500000</td>\n",
       "      <td>3.000000</td>\n",
       "      <td>0.000000</td>\n",
       "      <td>1.000000</td>\n",
       "      <td>1.000000</td>\n",
       "      <td>20.50000</td>\n",
       "      <td>24.240000</td>\n",
       "      <td>62.000000</td>\n",
       "      <td>12.998000</td>\n",
       "      <td>17.000000</td>\n",
       "      <td>118.000000</td>\n",
       "      <td>145.000000</td>\n",
       "    </tr>\n",
       "    <tr>\n",
       "      <th>75%</th>\n",
       "      <td>8163.750000</td>\n",
       "      <td>4.000000</td>\n",
       "      <td>0.000000</td>\n",
       "      <td>1.000000</td>\n",
       "      <td>2.000000</td>\n",
       "      <td>26.24000</td>\n",
       "      <td>31.060000</td>\n",
       "      <td>77.000000</td>\n",
       "      <td>16.997900</td>\n",
       "      <td>49.000000</td>\n",
       "      <td>222.000000</td>\n",
       "      <td>284.000000</td>\n",
       "    </tr>\n",
       "    <tr>\n",
       "      <th>max</th>\n",
       "      <td>10885.000000</td>\n",
       "      <td>4.000000</td>\n",
       "      <td>1.000000</td>\n",
       "      <td>1.000000</td>\n",
       "      <td>4.000000</td>\n",
       "      <td>41.00000</td>\n",
       "      <td>45.455000</td>\n",
       "      <td>100.000000</td>\n",
       "      <td>56.996900</td>\n",
       "      <td>367.000000</td>\n",
       "      <td>886.000000</td>\n",
       "      <td>977.000000</td>\n",
       "    </tr>\n",
       "  </tbody>\n",
       "</table>\n",
       "</div>"
      ],
      "text/plain": [
       "         Unnamed: 0        season       holiday    workingday       weather  \\\n",
       "count  10886.000000  10886.000000  10886.000000  10886.000000  10886.000000   \n",
       "mean    5442.500000      2.506614      0.028569      0.680875      1.418427   \n",
       "std     3142.661849      1.116174      0.166599      0.466159      0.633839   \n",
       "min        0.000000      1.000000      0.000000      0.000000      1.000000   \n",
       "25%     2721.250000      2.000000      0.000000      0.000000      1.000000   \n",
       "50%     5442.500000      3.000000      0.000000      1.000000      1.000000   \n",
       "75%     8163.750000      4.000000      0.000000      1.000000      2.000000   \n",
       "max    10885.000000      4.000000      1.000000      1.000000      4.000000   \n",
       "\n",
       "              temp         atemp      humidity     windspeed        casual  \\\n",
       "count  10886.00000  10886.000000  10886.000000  10886.000000  10886.000000   \n",
       "mean      20.23086     23.655084     61.886460     12.799395     36.021955   \n",
       "std        7.79159      8.474601     19.245033      8.164537     49.960477   \n",
       "min        0.82000      0.760000      0.000000      0.000000      0.000000   \n",
       "25%       13.94000     16.665000     47.000000      7.001500      4.000000   \n",
       "50%       20.50000     24.240000     62.000000     12.998000     17.000000   \n",
       "75%       26.24000     31.060000     77.000000     16.997900     49.000000   \n",
       "max       41.00000     45.455000    100.000000     56.996900    367.000000   \n",
       "\n",
       "         registered         count  \n",
       "count  10886.000000  10886.000000  \n",
       "mean     155.552177    191.574132  \n",
       "std      151.039033    181.144454  \n",
       "min        0.000000      1.000000  \n",
       "25%       36.000000     42.000000  \n",
       "50%      118.000000    145.000000  \n",
       "75%      222.000000    284.000000  \n",
       "max      886.000000    977.000000  "
      ]
     },
     "execution_count": 1,
     "metadata": {},
     "output_type": "execute_result"
    }
   ],
   "source": [
    "import pandas as pd\n",
    "import numpy as np\n",
    "\n",
    "dftrain = pd.read_csv('bike_sharing_train.csv')\n",
    "dfval = pd.read_csv('bike_sharing_val.csv')\n",
    "dftest = pd.read_csv('bike_sharing_test.csv')\n",
    "ntrain = len(dftrain)\n",
    "nval = len(dftrain) + len(dfval)\n",
    "df = pd.concat([dftrain,dfval,dftest])\n",
    "print ('\\nSummary - dataframe completo:\\n')\n",
    "df.describe()"
   ]
  },
  {
   "cell_type": "code",
   "execution_count": 2,
   "metadata": {},
   "outputs": [
    {
     "data": {
      "text/plain": [
       "Index(['Unnamed: 0', 'datetime', 'season', 'holiday', 'workingday', 'weather',\n",
       "       'temp', 'atemp', 'humidity', 'windspeed', 'casual', 'registered',\n",
       "       'count'],\n",
       "      dtype='object')"
      ]
     },
     "execution_count": 2,
     "metadata": {},
     "output_type": "execute_result"
    }
   ],
   "source": [
    "df.columns"
   ]
  },
  {
   "cell_type": "code",
   "execution_count": 3,
   "metadata": {
    "collapsed": true
   },
   "outputs": [],
   "source": [
    "df['hour'] = pd.to_datetime(df['datetime']).apply(lambda x: x.strftime('%H'))\n",
    "df['hour'] = pd.to_numeric(df['hour'])"
   ]
  },
  {
   "cell_type": "code",
   "execution_count": 4,
   "metadata": {},
   "outputs": [
    {
     "data": {
      "text/html": [
       "<div>\n",
       "<style>\n",
       "    .dataframe thead tr:only-child th {\n",
       "        text-align: right;\n",
       "    }\n",
       "\n",
       "    .dataframe thead th {\n",
       "        text-align: left;\n",
       "    }\n",
       "\n",
       "    .dataframe tbody tr th {\n",
       "        vertical-align: top;\n",
       "    }\n",
       "</style>\n",
       "<table border=\"1\" class=\"dataframe\">\n",
       "  <thead>\n",
       "    <tr style=\"text-align: right;\">\n",
       "      <th></th>\n",
       "      <th>Unnamed: 0</th>\n",
       "      <th>datetime</th>\n",
       "      <th>season</th>\n",
       "      <th>holiday</th>\n",
       "      <th>workingday</th>\n",
       "      <th>weather</th>\n",
       "      <th>temp</th>\n",
       "      <th>atemp</th>\n",
       "      <th>humidity</th>\n",
       "      <th>windspeed</th>\n",
       "      <th>casual</th>\n",
       "      <th>registered</th>\n",
       "      <th>count</th>\n",
       "      <th>hour</th>\n",
       "    </tr>\n",
       "  </thead>\n",
       "  <tbody>\n",
       "    <tr>\n",
       "      <th>0</th>\n",
       "      <td>3</td>\n",
       "      <td>2011-01-01 03:00:00</td>\n",
       "      <td>1</td>\n",
       "      <td>0</td>\n",
       "      <td>0</td>\n",
       "      <td>1</td>\n",
       "      <td>9.84</td>\n",
       "      <td>14.395</td>\n",
       "      <td>75</td>\n",
       "      <td>0.0000</td>\n",
       "      <td>3</td>\n",
       "      <td>10</td>\n",
       "      <td>13</td>\n",
       "      <td>3</td>\n",
       "    </tr>\n",
       "    <tr>\n",
       "      <th>1</th>\n",
       "      <td>4</td>\n",
       "      <td>2011-01-01 04:00:00</td>\n",
       "      <td>1</td>\n",
       "      <td>0</td>\n",
       "      <td>0</td>\n",
       "      <td>1</td>\n",
       "      <td>9.84</td>\n",
       "      <td>14.395</td>\n",
       "      <td>75</td>\n",
       "      <td>0.0000</td>\n",
       "      <td>0</td>\n",
       "      <td>1</td>\n",
       "      <td>1</td>\n",
       "      <td>4</td>\n",
       "    </tr>\n",
       "    <tr>\n",
       "      <th>2</th>\n",
       "      <td>5</td>\n",
       "      <td>2011-01-01 05:00:00</td>\n",
       "      <td>1</td>\n",
       "      <td>0</td>\n",
       "      <td>0</td>\n",
       "      <td>2</td>\n",
       "      <td>9.84</td>\n",
       "      <td>12.880</td>\n",
       "      <td>75</td>\n",
       "      <td>6.0032</td>\n",
       "      <td>0</td>\n",
       "      <td>1</td>\n",
       "      <td>1</td>\n",
       "      <td>5</td>\n",
       "    </tr>\n",
       "    <tr>\n",
       "      <th>3</th>\n",
       "      <td>6</td>\n",
       "      <td>2011-01-01 06:00:00</td>\n",
       "      <td>1</td>\n",
       "      <td>0</td>\n",
       "      <td>0</td>\n",
       "      <td>1</td>\n",
       "      <td>9.02</td>\n",
       "      <td>13.635</td>\n",
       "      <td>80</td>\n",
       "      <td>0.0000</td>\n",
       "      <td>2</td>\n",
       "      <td>0</td>\n",
       "      <td>2</td>\n",
       "      <td>6</td>\n",
       "    </tr>\n",
       "    <tr>\n",
       "      <th>4</th>\n",
       "      <td>7</td>\n",
       "      <td>2011-01-01 07:00:00</td>\n",
       "      <td>1</td>\n",
       "      <td>0</td>\n",
       "      <td>0</td>\n",
       "      <td>1</td>\n",
       "      <td>8.20</td>\n",
       "      <td>12.880</td>\n",
       "      <td>86</td>\n",
       "      <td>0.0000</td>\n",
       "      <td>1</td>\n",
       "      <td>2</td>\n",
       "      <td>3</td>\n",
       "      <td>7</td>\n",
       "    </tr>\n",
       "  </tbody>\n",
       "</table>\n",
       "</div>"
      ],
      "text/plain": [
       "   Unnamed: 0             datetime  season  holiday  workingday  weather  \\\n",
       "0           3  2011-01-01 03:00:00       1        0           0        1   \n",
       "1           4  2011-01-01 04:00:00       1        0           0        1   \n",
       "2           5  2011-01-01 05:00:00       1        0           0        2   \n",
       "3           6  2011-01-01 06:00:00       1        0           0        1   \n",
       "4           7  2011-01-01 07:00:00       1        0           0        1   \n",
       "\n",
       "   temp   atemp  humidity  windspeed  casual  registered  count  hour  \n",
       "0  9.84  14.395        75     0.0000       3          10     13     3  \n",
       "1  9.84  14.395        75     0.0000       0           1      1     4  \n",
       "2  9.84  12.880        75     6.0032       0           1      1     5  \n",
       "3  9.02  13.635        80     0.0000       2           0      2     6  \n",
       "4  8.20  12.880        86     0.0000       1           2      3     7  "
      ]
     },
     "execution_count": 4,
     "metadata": {},
     "output_type": "execute_result"
    }
   ],
   "source": [
    "df.head()"
   ]
  },
  {
   "cell_type": "code",
   "execution_count": 5,
   "metadata": {},
   "outputs": [
    {
     "name": "stdout",
     "output_type": "stream",
     "text": [
      "<class 'pandas.core.frame.DataFrame'>\n",
      "Int64Index: 10886 entries, 0 to 2146\n",
      "Data columns (total 14 columns):\n",
      "Unnamed: 0    10886 non-null int64\n",
      "datetime      10886 non-null object\n",
      "season        10886 non-null int64\n",
      "holiday       10886 non-null int64\n",
      "workingday    10886 non-null int64\n",
      "weather       10886 non-null int64\n",
      "temp          10886 non-null float64\n",
      "atemp         10886 non-null float64\n",
      "humidity      10886 non-null int64\n",
      "windspeed     10886 non-null float64\n",
      "casual        10886 non-null int64\n",
      "registered    10886 non-null int64\n",
      "count         10886 non-null int64\n",
      "hour          10886 non-null int64\n",
      "dtypes: float64(3), int64(10), object(1)\n",
      "memory usage: 1.2+ MB\n"
     ]
    }
   ],
   "source": [
    "df.info()"
   ]
  },
  {
   "cell_type": "markdown",
   "metadata": {},
   "source": [
    "Antes de analizar el dataframe, se nota que existe una columna sin identificar, llamada `Unnamed: 0`. Esta corresponde al número de registro, y no cumple con entregar información relevante sobre el problema abordado, por lo que será eliminada. También, la columna `datetime` no aparece en la descripción del dataframe, ya que al ser de tipo `string`, no se le puede calcular estadísticos."
   ]
  },
  {
   "cell_type": "code",
   "execution_count": 6,
   "metadata": {},
   "outputs": [
    {
     "data": {
      "text/html": [
       "<div>\n",
       "<style>\n",
       "    .dataframe thead tr:only-child th {\n",
       "        text-align: right;\n",
       "    }\n",
       "\n",
       "    .dataframe thead th {\n",
       "        text-align: left;\n",
       "    }\n",
       "\n",
       "    .dataframe tbody tr th {\n",
       "        vertical-align: top;\n",
       "    }\n",
       "</style>\n",
       "<table border=\"1\" class=\"dataframe\">\n",
       "  <thead>\n",
       "    <tr style=\"text-align: right;\">\n",
       "      <th></th>\n",
       "      <th>Unnamed: 0</th>\n",
       "      <th>season</th>\n",
       "      <th>holiday</th>\n",
       "      <th>workingday</th>\n",
       "      <th>weather</th>\n",
       "      <th>temp</th>\n",
       "      <th>atemp</th>\n",
       "      <th>humidity</th>\n",
       "      <th>windspeed</th>\n",
       "      <th>casual</th>\n",
       "      <th>registered</th>\n",
       "      <th>count</th>\n",
       "      <th>hour</th>\n",
       "    </tr>\n",
       "  </thead>\n",
       "  <tbody>\n",
       "    <tr>\n",
       "      <th>count</th>\n",
       "      <td>10886.000000</td>\n",
       "      <td>10886.000000</td>\n",
       "      <td>10886.000000</td>\n",
       "      <td>10886.000000</td>\n",
       "      <td>10886.000000</td>\n",
       "      <td>10886.00000</td>\n",
       "      <td>10886.000000</td>\n",
       "      <td>10886.000000</td>\n",
       "      <td>10886.000000</td>\n",
       "      <td>10886.000000</td>\n",
       "      <td>10886.000000</td>\n",
       "      <td>10886.000000</td>\n",
       "      <td>10886.000000</td>\n",
       "    </tr>\n",
       "    <tr>\n",
       "      <th>mean</th>\n",
       "      <td>5442.500000</td>\n",
       "      <td>2.506614</td>\n",
       "      <td>0.028569</td>\n",
       "      <td>0.680875</td>\n",
       "      <td>1.418427</td>\n",
       "      <td>20.23086</td>\n",
       "      <td>23.655084</td>\n",
       "      <td>61.886460</td>\n",
       "      <td>12.799395</td>\n",
       "      <td>36.021955</td>\n",
       "      <td>155.552177</td>\n",
       "      <td>191.574132</td>\n",
       "      <td>11.541613</td>\n",
       "    </tr>\n",
       "    <tr>\n",
       "      <th>std</th>\n",
       "      <td>3142.661849</td>\n",
       "      <td>1.116174</td>\n",
       "      <td>0.166599</td>\n",
       "      <td>0.466159</td>\n",
       "      <td>0.633839</td>\n",
       "      <td>7.79159</td>\n",
       "      <td>8.474601</td>\n",
       "      <td>19.245033</td>\n",
       "      <td>8.164537</td>\n",
       "      <td>49.960477</td>\n",
       "      <td>151.039033</td>\n",
       "      <td>181.144454</td>\n",
       "      <td>6.915838</td>\n",
       "    </tr>\n",
       "    <tr>\n",
       "      <th>min</th>\n",
       "      <td>0.000000</td>\n",
       "      <td>1.000000</td>\n",
       "      <td>0.000000</td>\n",
       "      <td>0.000000</td>\n",
       "      <td>1.000000</td>\n",
       "      <td>0.82000</td>\n",
       "      <td>0.760000</td>\n",
       "      <td>0.000000</td>\n",
       "      <td>0.000000</td>\n",
       "      <td>0.000000</td>\n",
       "      <td>0.000000</td>\n",
       "      <td>1.000000</td>\n",
       "      <td>0.000000</td>\n",
       "    </tr>\n",
       "    <tr>\n",
       "      <th>25%</th>\n",
       "      <td>2721.250000</td>\n",
       "      <td>2.000000</td>\n",
       "      <td>0.000000</td>\n",
       "      <td>0.000000</td>\n",
       "      <td>1.000000</td>\n",
       "      <td>13.94000</td>\n",
       "      <td>16.665000</td>\n",
       "      <td>47.000000</td>\n",
       "      <td>7.001500</td>\n",
       "      <td>4.000000</td>\n",
       "      <td>36.000000</td>\n",
       "      <td>42.000000</td>\n",
       "      <td>6.000000</td>\n",
       "    </tr>\n",
       "    <tr>\n",
       "      <th>50%</th>\n",
       "      <td>5442.500000</td>\n",
       "      <td>3.000000</td>\n",
       "      <td>0.000000</td>\n",
       "      <td>1.000000</td>\n",
       "      <td>1.000000</td>\n",
       "      <td>20.50000</td>\n",
       "      <td>24.240000</td>\n",
       "      <td>62.000000</td>\n",
       "      <td>12.998000</td>\n",
       "      <td>17.000000</td>\n",
       "      <td>118.000000</td>\n",
       "      <td>145.000000</td>\n",
       "      <td>12.000000</td>\n",
       "    </tr>\n",
       "    <tr>\n",
       "      <th>75%</th>\n",
       "      <td>8163.750000</td>\n",
       "      <td>4.000000</td>\n",
       "      <td>0.000000</td>\n",
       "      <td>1.000000</td>\n",
       "      <td>2.000000</td>\n",
       "      <td>26.24000</td>\n",
       "      <td>31.060000</td>\n",
       "      <td>77.000000</td>\n",
       "      <td>16.997900</td>\n",
       "      <td>49.000000</td>\n",
       "      <td>222.000000</td>\n",
       "      <td>284.000000</td>\n",
       "      <td>18.000000</td>\n",
       "    </tr>\n",
       "    <tr>\n",
       "      <th>max</th>\n",
       "      <td>10885.000000</td>\n",
       "      <td>4.000000</td>\n",
       "      <td>1.000000</td>\n",
       "      <td>1.000000</td>\n",
       "      <td>4.000000</td>\n",
       "      <td>41.00000</td>\n",
       "      <td>45.455000</td>\n",
       "      <td>100.000000</td>\n",
       "      <td>56.996900</td>\n",
       "      <td>367.000000</td>\n",
       "      <td>886.000000</td>\n",
       "      <td>977.000000</td>\n",
       "      <td>23.000000</td>\n",
       "    </tr>\n",
       "  </tbody>\n",
       "</table>\n",
       "</div>"
      ],
      "text/plain": [
       "         Unnamed: 0        season       holiday    workingday       weather  \\\n",
       "count  10886.000000  10886.000000  10886.000000  10886.000000  10886.000000   \n",
       "mean    5442.500000      2.506614      0.028569      0.680875      1.418427   \n",
       "std     3142.661849      1.116174      0.166599      0.466159      0.633839   \n",
       "min        0.000000      1.000000      0.000000      0.000000      1.000000   \n",
       "25%     2721.250000      2.000000      0.000000      0.000000      1.000000   \n",
       "50%     5442.500000      3.000000      0.000000      1.000000      1.000000   \n",
       "75%     8163.750000      4.000000      0.000000      1.000000      2.000000   \n",
       "max    10885.000000      4.000000      1.000000      1.000000      4.000000   \n",
       "\n",
       "              temp         atemp      humidity     windspeed        casual  \\\n",
       "count  10886.00000  10886.000000  10886.000000  10886.000000  10886.000000   \n",
       "mean      20.23086     23.655084     61.886460     12.799395     36.021955   \n",
       "std        7.79159      8.474601     19.245033      8.164537     49.960477   \n",
       "min        0.82000      0.760000      0.000000      0.000000      0.000000   \n",
       "25%       13.94000     16.665000     47.000000      7.001500      4.000000   \n",
       "50%       20.50000     24.240000     62.000000     12.998000     17.000000   \n",
       "75%       26.24000     31.060000     77.000000     16.997900     49.000000   \n",
       "max       41.00000     45.455000    100.000000     56.996900    367.000000   \n",
       "\n",
       "         registered         count          hour  \n",
       "count  10886.000000  10886.000000  10886.000000  \n",
       "mean     155.552177    191.574132     11.541613  \n",
       "std      151.039033    181.144454      6.915838  \n",
       "min        0.000000      1.000000      0.000000  \n",
       "25%       36.000000     42.000000      6.000000  \n",
       "50%      118.000000    145.000000     12.000000  \n",
       "75%      222.000000    284.000000     18.000000  \n",
       "max      886.000000    977.000000     23.000000  "
      ]
     },
     "execution_count": 6,
     "metadata": {},
     "output_type": "execute_result"
    }
   ],
   "source": [
    "df.describe()"
   ]
  },
  {
   "cell_type": "markdown",
   "metadata": {},
   "source": [
    "El parámetro `season` es de tipo categórico. Es decir que, la relación entre los posibles valores (1, 2, 3, 4) no es de orden entre ellos, sino de pertenencia a distintas *clases*. Otro parámetro con esta característica es `weather`. Se puede visualizar la distribución de estos datos (de entrenamiento, validación y prueba combinados) a través de histogramas."
   ]
  },
  {
   "cell_type": "code",
   "execution_count": 7,
   "metadata": {},
   "outputs": [
    {
     "data": {
      "image/png": "[encoded data removed]",
      "text/plain": [
       "<matplotlib.figure.Figure at 0x7fb11ee03a20>"
      ]
     },
     "metadata": {},
     "output_type": "display_data"
    }
   ],
   "source": [
    "import matplotlib.pyplot as plt\n",
    "\n",
    "plt.figure(figsize=(12,6))\n",
    "plt.grid(alpha=0.2)\n",
    "plt.hist(df['weather'], histtype='step', label='weather')\n",
    "plt.hist(df['season'], histtype='step', label='season')\n",
    "plt.legend(loc='upper right')\n",
    "plt.show()"
   ]
  },
  {
   "cell_type": "markdown",
   "metadata": {},
   "source": [
    "Observar que, la cantidad de registros por estación del año (naranjo) es prácticamente constante, ubicándose  al rededor de los 2600 para primavera (1), verano (2), otoño (3) e invierno (4). En cambio, la cantidad de registros difiere bastante dependiendo del tiempo actual: hay más de 7000 registros de rentas en días soleados o levemente despejados (1), al rededor de 2900 en días nublados o con neblina (2), unos 900 en días con precipitaciones de agua o nieve (3), y ninguna en los días de tormenta eléctrica o con granizos y niebla (4).\n",
    "\n",
    "Notar que los registros no son instancias de arriendos, sino que reportan la cantidad de arriendos en la ventana de tiempo entre el *datetime* actual y el del anterior registro. Por lo tanto, se puede concluir que cuando `weather=4`, el servicio de arriendo no estuvo disponible (quizás por razones de seguridad), pues no se hicieron registros, y no porque no haya habido arriendos."
   ]
  },
  {
   "cell_type": "code",
   "execution_count": 8,
   "metadata": {},
   "outputs": [
    {
     "data": {
      "image/png": "[encoded data removed]",
      "text/plain": [
       "<matplotlib.figure.Figure at 0x7fb116b28978>"
      ]
     },
     "metadata": {},
     "output_type": "display_data"
    }
   ],
   "source": [
    "import matplotlib.pyplot as plt\n",
    "\n",
    "plt.figure(figsize=(12,6))\n",
    "plt.grid(alpha=0.2)\n",
    "plt.hist(df['holiday'], histtype='step', label='holiday')\n",
    "plt.hist(df['workingday'], histtype='step', label='workingday')\n",
    "plt.legend(loc='upper right')\n",
    "plt.show()"
   ]
  },
  {
   "cell_type": "markdown",
   "metadata": {},
   "source": [
    "Otro tipo de atributo son los binarios, y los atributos `holiday` y `workingday` corresponden a esta categoría. Del histograma anterior, se nota que `holiday` (azul) es 0 para casi todos los registros, lo que tiene sentido, pues estadísticamente, los días feriados son pocos durante el año. En el caso de `workingday`, se nota que hay aproximadamente 3600 registros en los que este parámetro es 0, y 1 en el resto (unos 7500 registros). Por lo tanto, la mayoría de los registros se hicieron en días hábiles de la semana y no feriados."
   ]
  },
  {
   "cell_type": "markdown",
   "metadata": {},
   "source": [
    "Luego, los atributos `temp`, `atemp`, `humidity`, y `windspeed` son atributos de naturaleza continua, y son los que sólo requieren del preprocesado de escalado y centrado para poder ser procesados correctamente por los modelos estudiados hasta ahora. `temp` y `atemp` se mueven aproximadamente entre los valores 0 y 45. `humidity` es un porcentaje, por lo que varía entre 0 y 100. `windspeed` varía entre 0 y 57 aproximadamente.\n",
    "\n",
    "Siguen los atributos `casual`, `registered` y `count`, que son discretos y contables. En este caso, dada su gran variabilidad entre registros (entre 0 y 980, aproximadamente), es conveniente considerarlos como continuos.\n",
    "\n",
    "El último atributo agregado es `hour`, y su valor va desde 0 a 24. Podemos observar las horas en que más arriendos se producen."
   ]
  },
  {
   "cell_type": "code",
   "execution_count": 9,
   "metadata": {},
   "outputs": [
    {
     "data": {
      "image/png": "[encoded data removed]",
      "text/plain": [
       "<matplotlib.figure.Figure at 0x7fb116c48ef0>"
      ]
     },
     "metadata": {},
     "output_type": "display_data"
    }
   ],
   "source": [
    "casual = [0]*24\n",
    "registered = [0]*24\n",
    "\n",
    "for registro in df.as_matrix():\n",
    "    casual[registro[-1]] += registro[-4]\n",
    "    registered[registro[-1]] += registro[-3]\n",
    "\n",
    "f, ax = plt.subplots(figsize=(12,6))\n",
    "ax.grid(alpha=0.2)\n",
    "ax.bar(np.arange(24),registered, 0.4, label='registered')\n",
    "ax.bar(np.arange(24)+0.4,casual, 0.4, label='casual')\n",
    "ax.legend(loc='upper right')\n",
    "ax.set_xlabel('Hora del día')\n",
    "ax.set_ylabel('Cantidad de bicicletas rentadas')\n",
    "plt.show()"
   ]
  },
  {
   "cell_type": "markdown",
   "metadata": {},
   "source": [
    "Mientras la cantidad de arriendos de usuarios registrados es mucho mayor que la de casuales, estos últimos no son una cantidad despreciable. Es interesante observar que, mientras los arriendos de usuarios registrados alcanza *peaks* en horas de la mañana y en la tarde, la cantidad de arriendos de usuarios casuales varía de manera más suave, teniendo sus máximos valores al rededor de las 15:00 horas."
   ]
  },
  {
   "cell_type": "markdown",
   "metadata": {},
   "source": [
    "Finalmente, se observa la matriz de covarianza de los atributos para averiguar la existencia de correlaciones entre ellos."
   ]
  },
  {
   "cell_type": "code",
   "execution_count": 10,
   "metadata": {},
   "outputs": [
    {
     "name": "stdout",
     "output_type": "stream",
     "text": [
      "La mínima cantidad de bicicletas solicitadas por hora fue:  1\n",
      "La máxima cantidad de bicicletas solicitadas por hora fue:  977\n"
     ]
    },
    {
     "data": {
      "image/png": "[encoded data removed]",
      "text/plain": [
       "<matplotlib.figure.Figure at 0x7fb120aa3dd8>"
      ]
     },
     "metadata": {},
     "output_type": "display_data"
    }
   ],
   "source": [
    "aux= np.sort(df['count'].values)[::-1]\n",
    "print (\"La mínima cantidad de bicicletas solicitadas por hora fue: \", np.min(aux))\n",
    "print (\"La máxima cantidad de bicicletas solicitadas por hora fue: \", np.max(aux))\n",
    "\n",
    "plt.figure(figsize=(10,5))\n",
    "plt.title(\"Cantidad de bicicletas soliticadas [ordenado]\")\n",
    "#plt.plot(aux[2000:])\n",
    "plt.plot(aux)\n",
    "plt.ylabel(\"Cantidad de bicicletas\")\n",
    "plt.xlabel(\"Indice\")\n",
    "plt.axis('tight')\n",
    "plt.show()"
   ]
  },
  {
   "cell_type": "code",
   "execution_count": 11,
   "metadata": {},
   "outputs": [
    {
     "name": "stdout",
     "output_type": "stream",
     "text": [
      "[99313, 154560, 58625] [174830, 288693, 124759] [192825, 304212, 143625] [173769, 268519, 101746]\n"
     ]
    }
   ],
   "source": [
    "import matplotlib.pyplot as plt\n",
    "\n",
    "pri1 = df[ (df['season'] == 1) & (df['hour'] <= 11)]\n",
    "pri2 = df[ (df['season'] == 1) & (df['hour'] > 11) & (df['hour'] <= 18)]\n",
    "pri3 = df[ (df['season'] == 1) & (df['hour'] > 18) & (df['hour'] <= 24)]\n",
    "\n",
    "sumaPri = [sum(pri1['count']),sum(pri2['count']),sum(pri3['count'])]\n",
    "\n",
    "ver1 = df[ (df['season'] == 2) & (df['hour'] <= 11)]\n",
    "ver2 = df[ (df['season'] == 2) & (df['hour'] > 11) & (df['hour'] <= 18)]\n",
    "ver3 = df[ (df['season'] == 2) & (df['hour'] > 18) & (df['hour'] <= 24)]\n",
    "\n",
    "sumaVer = [sum(ver1['count']),sum(ver2['count']),sum(ver3['count'])]\n",
    "\n",
    "oto1 = df[ (df['season'] == 3) & (df['hour'] <= 11)]\n",
    "oto2 = df[ (df['season'] == 3) & (df['hour'] > 11) & (df['hour'] <= 18)]\n",
    "oto3 = df[ (df['season'] == 3) & (df['hour'] > 18) & (df['hour'] <= 24)]\n",
    "\n",
    "sumaOto = [sum(oto1['count']),sum(oto2['count']),sum(oto3['count'])]\n",
    "\n",
    "inv1 = df[ (df['season'] == 4) & (df['hour'] <= 11)]\n",
    "inv2 = df[ (df['season'] == 4) & (df['hour'] > 11) & (df['hour'] <= 18)]\n",
    "inv3 = df[ (df['season'] == 4) & (df['hour'] > 18) & (df['hour'] <= 24)]\n",
    "\n",
    "sumaInv = [sum(inv1['count']),sum(inv2['count']),sum(inv3['count'])]\n",
    "\n",
    "print (sumaPri, sumaVer, sumaOto, sumaInv)"
   ]
  },
  {
   "cell_type": "code",
   "execution_count": 12,
   "metadata": {},
   "outputs": [
    {
     "data": {
      "image/png": "[encoded data removed]",
      "text/plain": [
       "<matplotlib.figure.Figure at 0x7fb12080cef0>"
      ]
     },
     "metadata": {},
     "output_type": "display_data"
    }
   ],
   "source": [
    "f, axarr = plt.subplots(2, 2, figsize=(12,8) )\n",
    "axarr[0, 0].bar(np.arange(0,3,1), sumaPri, width  = 0.5, align = \"center\", color = 'lightblue')\n",
    "axarr[0, 0].set_title('Spring')\n",
    "axarr[0, 0].set_xticks([0.01,0.9, 2.1])\n",
    "axarr[0, 0].set_xticklabels(('Mañana','Tarde','Noche'))\n",
    "axarr[0, 0].set_ylabel('Arriendos')\n",
    "axarr[0, 0].axis('tight')\n",
    "\n",
    "axarr[0, 1].bar(np.arange(0,3,1), sumaVer, width  = 0.5, align = \"center\", color = 'pink')\n",
    "axarr[0, 1].set_title('Summer')\n",
    "axarr[0, 0].set_xticks([0.01,0.9, 2.1])\n",
    "axarr[0, 0].set_xticklabels(('Mañana','Tarde','Noche'))\n",
    "axarr[0, 1].set_ylabel('Arriendos')\n",
    "axarr[0, 1].axis('tight')\n",
    "\n",
    "axarr[1, 0].bar(np.arange(0,3,1), sumaOto, width  = 0.5, align = \"center\", color = 'lightgreen')\n",
    "axarr[1, 0].set_title('Fall')\n",
    "axarr[0, 0].set_xticks([0.01,0.9, 2.1])\n",
    "axarr[0, 0].set_xticklabels(('Mañana','Tarde','Noche'))\n",
    "axarr[1, 0].set_ylabel('Arriendos')\n",
    "axarr[1, 0].axis('tight')\n",
    "\n",
    "axarr[1, 1].bar(np.arange(0,3,1), sumaInv, width  = 0.5, align = \"center\", color = 'orange')\n",
    "axarr[1, 1].set_title('Winter')\n",
    "axarr[0, 0].set_xticks([0.01,0.9, 2.1])\n",
    "axarr[0, 0].set_xticklabels(('Mañana','Tarde','Noche'))\n",
    "axarr[1, 1].set_ylabel('Arriendos')\n",
    "axarr[1, 1].axis('tight')\n",
    "\n",
    "f.tight_layout() \n",
    "plt.show()"
   ]
  },
  {
   "cell_type": "code",
   "execution_count": 13,
   "metadata": {},
   "outputs": [
    {
     "data": {
      "image/png": "[encoded data removed]",
      "text/plain": [
       "<matplotlib.figure.Figure at 0x7fb116b280b8>"
      ]
     },
     "metadata": {},
     "output_type": "display_data"
    }
   ],
   "source": [
    "import seaborn as sns\n",
    "\n",
    "plt.figure(figsize=(12,12))\n",
    "sns.heatmap(df.corr(), vmax=.8, linewidths=0.01,\n",
    "            square=True,annot=True,cmap='viridis',linecolor=\"white\")\n",
    "sns.set(font_scale=1)\n",
    "plt.title('Correlación entre atributos');\n",
    "plt.show()\n",
    "sns.reset_orig()"
   ]
  },
  {
   "cell_type": "markdown",
   "metadata": {},
   "source": [
    "Como es de esperar, la temperatura y la sensación térmica, denotados por `temp` y `atemp` respectivamente, están muy correlacionadas entre sí, con un factor de 0.98. Luego, la correlación entre `registered` y `count` también es muy fuerte, con 0.97. Le sigue `casual` y `count` con 0.69. `registered` y `casual` también se correlacionan, con un factor de 0.5. Una correlación interesante es entre `casual` y ambas `temp` y `atemp`, lo que sugiere que cuando la temperatura era \"agradable\", entonces la cantidad de usuarios casuales aumentaba.\n",
    "\n",
    "También existen correlaciones negativas, como por ejemplo entre `casual` y `workingday`. Esto siguere que en los días hábiles, la cantidad de arriendos de usuarios casuales era menor, lo cual hace sentido."
   ]
  },
  {
   "cell_type": "markdown",
   "metadata": {},
   "source": [
    "#### (b) Entrenamiento de un árbol de regresión para resolver el problema descrito."
   ]
  },
  {
   "cell_type": "markdown",
   "metadata": {},
   "source": [
    "Se usarán los parámetros por defecto, esperando un puntaje aproximado de $0.59$."
   ]
  },
  {
   "cell_type": "code",
   "execution_count": 16,
   "metadata": {},
   "outputs": [
    {
     "data": {
      "text/plain": [
       "8739"
      ]
     },
     "execution_count": 16,
     "metadata": {},
     "output_type": "execute_result"
    }
   ],
   "source": []
  },
  {
   "cell_type": "code",
   "execution_count": 14,
   "metadata": {},
   "outputs": [
    {
     "name": "stderr",
     "output_type": "stream",
     "text": [
      "/etc/Anaconda3/lib/python3.6/site-packages/ipykernel_launcher.py:8: DeprecationWarning: \n",
      ".ix is deprecated. Please use\n",
      ".loc for label based indexing or\n",
      ".iloc for positional indexing\n",
      "\n",
      "See the documentation here:\n",
      "http://pandas.pydata.org/pandas-docs/stable/indexing.html#ix-indexer-is-deprecated\n",
      "  \n"
     ]
    },
    {
     "name": "stdout",
     "output_type": "stream",
     "text": [
      "SCORE TEST=0.703388\n",
      "KAGG EVAL TRAIN =0.028516\n",
      "KAGG EVAL VAL =0.554511\n",
      "KAGG EVAL TEST =0.574239\n"
     ]
    },
    {
     "data": {
      "image/png": "[encoded data removed]",
      "text/plain": [
       "<matplotlib.figure.Figure at 0x7fb10c0faf28>"
      ]
     },
     "metadata": {},
     "output_type": "display_data"
    }
   ],
   "source": [
    "from sklearn.tree import DecisionTreeRegressor as Tree\n",
    "import matplotlib.pyplot as plt\n",
    "\n",
    "def eval_bikemodel(y_predict,y_true):\n",
    "    diff = np.log(y_predict+1.0) - np.log(y_true+1.0)\n",
    "    return np.sqrt(np.sum(np.square(diff))/len(y_predict))\n",
    "\n",
    "Xdf=df.ix[:,['season','holiday','workingday','weather','temp','atemp',\n",
    "        'humidity','windspeed','hour']]\n",
    "Ydf=df.ix[:,'count']\n",
    "X_train = Xdf[0:ntrain].values\n",
    "X_val = Xdf[ntrain:nval].values\n",
    "X_test = Xdf[nval:].values\n",
    "Y_train = Ydf[0:ntrain].values\n",
    "Y_val = Ydf[ntrain:nval].values\n",
    "Y_test = Ydf[nval:].values\n",
    "\n",
    "model = Tree(random_state=0)\n",
    "model.fit(X_train,Y_train)\n",
    "score_test = model.score(X_test,Y_test)\n",
    "print (\"SCORE TEST=%f\"%score_test)\n",
    "\n",
    "Y_pred_train = model.predict(X_train)\n",
    "Y_pred_val = model.predict(X_val)\n",
    "Y_pred_test = model.predict(X_test)\n",
    "kagg_train = eval_bikemodel(Y_pred_train,Y_train)\n",
    "kagg_val = eval_bikemodel(Y_pred_val,Y_val)\n",
    "kagg_test = eval_bikemodel(Y_pred_test,Y_test)\n",
    "print (\"KAGG EVAL TRAIN =%f\"%kagg_train)\n",
    "print (\"KAGG EVAL VAL =%f\"%kagg_val)\n",
    "print (\"KAGG EVAL TEST =%f\"%kagg_test)\n",
    "plt.figure(figsize=(12,12))\n",
    "plt.grid(alpha=0.2)\n",
    "plt.plot(Y_test,Y_pred_test,'o', c='c', markeredgecolor='black')\n",
    "plt.plot(range(0,900), range(0,900), linestyle='--', c='r')\n",
    "plt.xlabel('Y_test (predicción esperada)')\n",
    "plt.ylabel('Y_pred (predicción del modelo)')\n",
    "plt.title('Valor predicho en función del esperado')\n",
    "plt.show()"
   ]
  },
  {
   "cell_type": "markdown",
   "metadata": {},
   "source": [
    "En efecto, el puntaje obtenido por el modelo es de 0.57, lo que es mejor que el 0.59 esperado.\n",
    "\n",
    "####  decir por que es mejoor, explicar la funciion a grandes rasgos (una linea)\n",
    "A pesar de eso, a partir del gráfico se nota que las predicciones están en general, bastante alejadas de lo que se espera. Idealmente, la predicción es igual a lo esperado, por lo que se desea un comportamiento lo más parecido a la *identidad* (línea roja)."
   ]
  },
  {
   "cell_type": "markdown",
   "metadata": {},
   "source": [
    "#### (c) Mejoramiento del árbol de clasificación anterior a través de la modificación de sus hiperparámetros."
   ]
  },
  {
   "cell_type": "markdown",
   "metadata": {},
   "source": [
    "La máxima profundidad se variará entre 1 y 50, mientras que se decidirá el modelo a proponer en base a su rendimiento sobre el conjunto de validación."
   ]
  },
  {
   "cell_type": "code",
   "execution_count": 15,
   "metadata": {
    "collapsed": true
   },
   "outputs": [],
   "source": [
    "kagg_val2 = []\n",
    "kagg_train2 = []\n",
    "for i in range(1,51):\n",
    "    model2 = Tree(random_state=0,max_depth=i)\n",
    "    model2.fit(X_train,Y_train)\n",
    "    Y_pred_val2 = model2.predict(X_val)\n",
    "    kagg_val2.append(eval_bikemodel(Y_pred_val2,Y_val))\n",
    "    \n",
    "    \n",
    "    Y_pred_train2 = model2.predict(X_train)\n",
    "    kagg_train2.append(eval_bikemodel(Y_pred_train2,Y_train))"
   ]
  },
  {
   "cell_type": "markdown",
   "metadata": {},
   "source": [
    "Y se observa el puntaje obtenido en función de la máxima profundidad."
   ]
  },
  {
   "cell_type": "code",
   "execution_count": 16,
   "metadata": {
    "scrolled": true
   },
   "outputs": [
    {
     "data": {
      "image/png": "[encoded data removed]",
      "text/plain": [
       "<matplotlib.figure.Figure at 0x7f965d32b5f8>"
      ]
     },
     "metadata": {},
     "output_type": "display_data"
    }
   ],
   "source": [
    "plt.figure(figsize=(14,7))\n",
    "plt.grid(alpha=0.2)\n",
    "plt.plot(range(1,51), kagg_val2, marker='o', label='Puntaje sobre validation')\n",
    "plt.plot(range(1,51), kagg_train2, marker='o', label='Puntaje sobre training')\n",
    "plt.legend()\n",
    "plt.title('Puntaje de predicción en función a la máxima profundidad del árbol de regresión')\n",
    "plt.xlabel('Máxima Profundidad')\n",
    "plt.ylabel('Puntaje')\n",
    "plt.show()"
   ]
  },
  {
   "cell_type": "markdown",
   "metadata": {},
   "source": [
    "Se observa que el menor error de validación se encuentra cuando:"
   ]
  },
  {
   "cell_type": "code",
   "execution_count": 17,
   "metadata": {},
   "outputs": [
    {
     "name": "stdout",
     "output_type": "stream",
     "text": [
      "Max. Profundidad = 10\n"
     ]
    }
   ],
   "source": [
    "print('Max. Profundidad =', kagg_val2.index(min(kagg_val2))+1)"
   ]
  },
  {
   "cell_type": "markdown",
   "metadata": {},
   "source": [
    "Y cuyo valor es:"
   ]
  },
  {
   "cell_type": "code",
   "execution_count": 18,
   "metadata": {},
   "outputs": [
    {
     "name": "stdout",
     "output_type": "stream",
     "text": [
      "Valor error validación mínimo = 0.4763\n"
     ]
    }
   ],
   "source": [
    "print('Valor error validación mínimo =', round(min(kagg_val2),4))"
   ]
  },
  {
   "cell_type": "markdown",
   "metadata": {},
   "source": [
    "Comprobando el error sobre el conjunto de pruebas:"
   ]
  },
  {
   "cell_type": "code",
   "execution_count": 19,
   "metadata": {},
   "outputs": [
    {
     "name": "stdout",
     "output_type": "stream",
     "text": [
      "Valor error validación con max_depth=10: 0.4763\n",
      "Valor error pruebas con max_depth=10: 0.5164\n"
     ]
    }
   ],
   "source": [
    "model2 = Tree(random_state=0,max_depth=10)\n",
    "model2.fit(X_train,Y_train)\n",
    "Y_pred_val2 = model2.predict(X_val)\n",
    "kagg_val2 = eval_bikemodel(Y_pred_val2,Y_val)\n",
    "Y_pred_test2 = model2.predict(X_test)\n",
    "kagg_test2 = eval_bikemodel(Y_pred_test2,Y_test)\n",
    "\n",
    "print('Valor error validación con max_depth=10:', round(kagg_val2,4))\n",
    "print('Valor error pruebas con max_depth=10:', round(kagg_test2,4))"
   ]
  },
  {
   "cell_type": "markdown",
   "metadata": {},
   "source": [
    "El cual representa una mejora del 0.5742-0.5164=0.0578 por sobre el árbol con parámetros por defecto. La mejora se produce porque, al limitar la profundidad del árbol, se limita el nivel de sobreajuste a los datos de entrenamiento, pues, de no poner límite, la cantidad de *splits* dividiría el espacio de los datos en muchas regiones, dentro de las cuales habrían menos datos, produciendo un aumento en la varianza, y por lo tanto, perdiendo confiabilidad y representatividad."
   ]
  },
  {
   "cell_type": "markdown",
   "metadata": {},
   "source": [
    "#### (d) Mejoramiento del rendimiento del modelo a través de modificaciones al conjunto de datos."
   ]
  },
  {
   "cell_type": "markdown",
   "metadata": {},
   "source": [
    "Se propone mejorar el árbol de regresión definido en el punto anterior haciendo modificaciones sobre la representación utilizada. Estas modificaciones consideran la extracción de las características: \n",
    "\n",
    "Día de la semana, 'cday' (enumerados desde 0 a 6)  \n",
    "Mes (1-12 para el rango enero-diciembre)  \n",
    "Año (2011 o 2012), 'year'\n",
    "\n",
    "a partir de la fecha puesto que anteriormente solo se extrajo la hora.\n",
    "\n",
    "A partir de esto, se espera mejorar el ranking en unas 1000 posiciones, entrando al top-1000 con un score del orden de 0.45"
   ]
  },
  {
   "cell_type": "code",
   "execution_count": 20,
   "metadata": {
    "collapsed": true
   },
   "outputs": [],
   "source": [
    "#opcional: agregar característica schedule (mañana tarde y noche)"
   ]
  },
  {
   "cell_type": "code",
   "execution_count": 21,
   "metadata": {
    "collapsed": true
   },
   "outputs": [],
   "source": [
    "df['cday'] = pd.to_datetime(df['datetime']).dt.dayofweek#0:lunes,6:domingo\n",
    "df['cday'] = pd.to_numeric(df['cday'])\n",
    "df['month'] = pd.to_datetime(df['datetime']).dt.month#1:enero, 12: diciembre\n",
    "df['month'] = pd.to_numeric(df['month'])\n",
    "df['year'] = pd.to_datetime(df['datetime']).dt.year\n",
    "df['year'] = pd.to_numeric(df['year'])\n"
   ]
  },
  {
   "cell_type": "code",
   "execution_count": 22,
   "metadata": {
    "collapsed": true
   },
   "outputs": [],
   "source": [
    "Xdf=df.ix[:,['season','holiday','workingday','weather','temp','atemp','humidity','windspeed','hour','cday','month','year']]\n",
    "Ydf= df.ix[:,'count']\n",
    "X_train = Xdf[0:ntrain].values\n",
    "X_val = Xdf[ntrain:nval].values\n",
    "Y_train = Ydf[0:ntrain].values\n",
    "Y_val = Ydf[ntrain:nval].values\n",
    "\n",
    "names_atr = ['season','holiday','workingday','weather','temp','atemp','humidity','windspeed','hour','cday','month','year']"
   ]
  },
  {
   "cell_type": "markdown",
   "metadata": {
    "collapsed": true
   },
   "source": [
    "Va obtenidas las nuevas características o atributos, se propone un enfoque similar al utilizado en la tarea 1, construir una función que implemente Forward Step-wise Selection (FSS). Es decir, partiendo con un modelo sin predictores (variables), agregar un predictor a la vez, re-ajustando el modelo de regresión en cada paso. \n"
   ]
  },
  {
   "cell_type": "code",
   "execution_count": 23,
   "metadata": {
    "collapsed": true
   },
   "outputs": [],
   "source": [
    "def fss(xtr, ytr, xval, yval, names_x, k = 10000):\n",
    "    p = xtr.shape[1]-1\n",
    "    k = min(p, k)\n",
    "    names_x = np.array(names_x)\n",
    "    remaining = list(np.arange(p))\n",
    "    selected = [p]\n",
    "    current_score = best_new_score = 0.0 # los puntajes mayores son mejores    \n",
    "    mse_atribs_train = {}\n",
    "    mse_atribs_test = {}\n",
    "    \n",
    "    while remaining and len(selected)<=k :\n",
    "        score_candidates = []\n",
    "        for candidate in remaining:\n",
    "            #model = lm.LinearRegression(fit_intercept=True)\n",
    "            model = Tree(max_depth= 10)\n",
    "            indexes = selected + [candidate]\n",
    "            x_train = xtr[:,indexes]\n",
    "            x_val = xval[:,indexes]            \n",
    "            predictions_val = model.fit(x_train, ytr).predict(x_val)\n",
    "            kagg_val = eval_bikemodel(predictions_val, yval)           \n",
    "            score_candidates.append((kagg_val, candidate))\n",
    "        score_candidates.sort() # Ordena de menor a mayor comparando el primer elemento de cada tupla (explained_var)\n",
    "        score_candidates[:] = score_candidates[::-1]\n",
    "        best_new_score, best_candidate = score_candidates.pop() # saca la tupla de menor error (ultimo elemento)\n",
    "        remaining.remove(best_candidate)\n",
    "        selected.append(best_candidate)\n",
    "        print (\"selected = %s ...\"%names_x[best_candidate])\n",
    "        \n",
    "    return selected"
   ]
  },
  {
   "cell_type": "markdown",
   "metadata": {},
   "source": [
    "A continuación, se hace uso de la función 'fss' en donde se ha propuesto extraer los primeros 9 atributos seleccionados por la función."
   ]
  },
  {
   "cell_type": "code",
   "execution_count": 24,
   "metadata": {},
   "outputs": [
    {
     "name": "stdout",
     "output_type": "stream",
     "text": [
      "selected = hour ...\n",
      "selected = cday ...\n",
      "selected = month ...\n",
      "selected = holiday ...\n",
      "selected = workingday ...\n",
      "selected = season ...\n",
      "selected = weather ...\n",
      "selected = temp ...\n",
      "selected = humidity ...\n",
      "selected = windspeed ...\n",
      "selected = atemp ...\n",
      "\n",
      "No se considerarán los atributos:\n"
     ]
    },
    {
     "data": {
      "text/plain": [
       "{'atemp', 'humidity', 'windspeed'}"
      ]
     },
     "execution_count": 24,
     "metadata": {},
     "output_type": "execute_result"
    }
   ],
   "source": [
    "seleccionados = fss(X_train, Y_train, X_val , Y_val, names_atr)[:9]\n",
    "seleccionados=np.array(names_atr)[seleccionados]\n",
    "\n",
    "b= set(names_atr) - set(seleccionados)\n",
    "print (\"\\nNo se considerarán los atributos:\") \n",
    "b"
   ]
  },
  {
   "cell_type": "code",
   "execution_count": 25,
   "metadata": {
    "collapsed": true
   },
   "outputs": [],
   "source": [
    "names_atr1=['season','holiday','workingday','weather','temp','atemp','humidity','windspeed','hour','cday','month','year']\n",
    "df2 = df.ix[:,names_atr1+['count']]\n"
   ]
  },
  {
   "cell_type": "markdown",
   "metadata": {},
   "source": [
    "Ahora bien, se define 'caracterizar' que, a partir de la elección del conjunto de características, genera los conjuntos de entrenamiento, validación y test correspondientemente."
   ]
  },
  {
   "cell_type": "code",
   "execution_count": 26,
   "metadata": {
    "collapsed": true
   },
   "outputs": [],
   "source": [
    "from sklearn.preprocessing import StandardScaler\n",
    "from sklearn.preprocessing import normalize\n",
    "\n",
    "def caracterizar(df, features):\n",
    "    if features == \"todas\":\n",
    "        n_features = ['season','holiday','workingday','weather','temp','atemp','humidity','windspeed','hour','cday','month','year']\n",
    "    elif features == \"originales\":\n",
    "        n_features = ['season','holiday','workingday','weather','temp','atemp','humidity','windspeed','hour']\n",
    "    elif features == \"filtradas\":\n",
    "        n_features = ['season','holiday','workingday','weather','hour','cday','month','year','temp']\n",
    "    elif features == \"filtradas-1\":\n",
    "        n_features = ['season','holiday','workingday','weather','hour','cday','month','year']\n",
    "    elif features == \"filtradas-2\":\n",
    "        n_features = ['holiday','workingday','weather','hour','cday','month','year']\n",
    "    elif features == \"filtradas-3\":\n",
    "        n_features = ['workingday','weather','hour','cday','month','year']\n",
    "    elif features == \"filtradas-4\":\n",
    "        n_features = ['workingday','weather','hour','cday','month']\n",
    "    elif features == \"extremo\":\n",
    "        n_features = ['workingday','hour','cday','month']\n",
    "        \n",
    "    Xdf=df.ix[:,n_features]\n",
    "    Ydf=df.ix[:,'count'] #target\n",
    "    X_train = Xdf[0:ntrain].values\n",
    "    X_val = Xdf[ntrain:nval].values\n",
    "    X_test = Xdf[nval:].values\n",
    "    Y_train = Ydf[0:ntrain].values\n",
    "    Y_val = Ydf[ntrain:nval].values\n",
    "    Y_test = Ydf[nval:].values\n",
    "\n",
    "    return X_train,Y_train,X_val,Y_val,X_test,Y_test\n"
   ]
  },
  {
   "cell_type": "markdown",
   "metadata": {},
   "source": [
    "\n",
    "Dadas las múltiples opciones de configuración para el árbol de regresión ya trabajado, se muestra a continuación el comportamiento de cada una de estas posibilidades y su correspondiente desempeño (eval_bikemodel tanto para la predicción sobre el conjunto de datos de entrenamiento como de validación).  \n",
    "\n",
    "Otro punto importante a mencionar corresponde a que en las configuraciones presentadas, se ha definido el parámetro 'random_state=0' que equivale a una semilla inicial para todo árbol regresor a fin de hacer comparables lols resultadso de los diferentes modelos. "
   ]
  },
  {
   "cell_type": "code",
   "execution_count": 27,
   "metadata": {},
   "outputs": [
    {
     "name": "stdout",
     "output_type": "stream",
     "text": [
      "Representación de todas las caracteristicas (sin escalar)\n",
      "KAGG EVAL TRAIN =0.269763\n",
      "KAGG EVAL VAL =0.406954\n",
      "Representación de todas las caracteristicas (escaladas)\n",
      "KAGG EVAL TRAIN =0.269763\n",
      "KAGG EVAL VAL =0.407576\n"
     ]
    },
    {
     "name": "stderr",
     "output_type": "stream",
     "text": [
      "/etc/Anaconda3/lib/python3.6/site-packages/ipykernel_launcher.py:22: DeprecationWarning: \n",
      ".ix is deprecated. Please use\n",
      ".loc for label based indexing or\n",
      ".iloc for positional indexing\n",
      "\n",
      "See the documentation here:\n",
      "http://pandas.pydata.org/pandas-docs/stable/indexing.html#ix-indexer-is-deprecated\n"
     ]
    }
   ],
   "source": [
    "print (\"Representación de todas las caracteristicas (sin escalar)\")\n",
    "X_train,Y_train,X_val,Y_val,X_test,Y_test = caracterizar(df2,\"todas\")\n",
    "modelTS = Tree(random_state=0,max_depth=10)\n",
    "modelTS.fit(X_train,Y_train)\n",
    "Y_pred_train = modelTS.predict(X_train)\n",
    "Y_pred_val = modelTS.predict(X_val)\n",
    "kagg_train = eval_bikemodel(Y_pred_train,Y_train)\n",
    "print (\"KAGG EVAL TRAIN =%f\"%kagg_train)\n",
    "kagg_val = eval_bikemodel(Y_pred_val,Y_val)\n",
    "print (\"KAGG EVAL VAL =%f\"%kagg_val)\n",
    "\n",
    "print (\"Representación de todas las caracteristicas (escaladas)\")   \n",
    "scaler = StandardScaler()\n",
    "X_train = scaler.fit_transform(X_train)\n",
    "X_test = scaler.transform(X_test)\n",
    "X_val = scaler.fit_transform(X_val)\n",
    "\n",
    "#4079 4075\n",
    "modelTE = Tree(random_state=0,max_depth=10)\n",
    "modelTE.fit(X_train,Y_train)\n",
    "Y_pred_train = modelTE.predict(X_train)\n",
    "Y_pred_val = modelTE.predict(X_val)\n",
    "kagg_train = eval_bikemodel(Y_pred_train,Y_train)\n",
    "print (\"KAGG EVAL TRAIN =%f\"%kagg_train)\n",
    "kagg_val = eval_bikemodel(Y_pred_val,Y_val)\n",
    "print (\"KAGG EVAL VAL =%f\"%kagg_val)      "
   ]
  },
  {
   "cell_type": "code",
   "execution_count": 28,
   "metadata": {},
   "outputs": [
    {
     "name": "stdout",
     "output_type": "stream",
     "text": [
      "Representación de las caracteristicas filtradas (sin escalar)\n",
      "KAGG EVAL TRAIN =0.276828\n",
      "KAGG EVAL VAL =0.404310\n",
      "Representación de las caracteristicas filtradas (escaladas)\n",
      "KAGG EVAL TRAIN =0.276828\n",
      "KAGG EVAL VAL =0.404315\n"
     ]
    }
   ],
   "source": [
    "print (\"Representación de las caracteristicas filtradas (sin escalar)\")\n",
    "X_train,Y_train,X_val,Y_val,X_test,Y_test = caracterizar(df2,\"filtradas\")\n",
    "modelFS = Tree(random_state=0,max_depth=10) \n",
    "modelFS.fit(X_train,Y_train)\n",
    "Y_pred_train = modelFS.predict(X_train)\n",
    "kagg_train = eval_bikemodel(Y_pred_train,Y_train)\n",
    "print (\"KAGG EVAL TRAIN =%f\"%kagg_train)\n",
    "Y_pred_val = modelFS.predict(X_val)\n",
    "kagg_val = eval_bikemodel(Y_pred_val,Y_val)\n",
    "print (\"KAGG EVAL VAL =%f\"%kagg_val)\n",
    "\n",
    "\n",
    "print (\"Representación de las caracteristicas filtradas (escaladas)\")\n",
    "scaler=StandardScaler()\n",
    "X_train = scaler.fit_transform(X_train)\n",
    "X_test = scaler.transform(X_test)\n",
    "X_val = scaler.fit_transform(X_val)\n",
    "modelFE = Tree(random_state=0,max_depth=10) \n",
    "modelFE.fit(X_train,Y_train)\n",
    "Y_pred_train = modelFE.predict(X_train)\n",
    "kagg_train = eval_bikemodel(Y_pred_train,Y_train)\n",
    "print (\"KAGG EVAL TRAIN =%f\"%kagg_train)\n",
    "Y_pred_val = modelFE.predict(X_val)\n",
    "kagg_val = eval_bikemodel(Y_pred_val,Y_val)\n",
    "print (\"KAGG EVAL VAL =%f\"%kagg_val)        "
   ]
  },
  {
   "cell_type": "code",
   "execution_count": 29,
   "metadata": {},
   "outputs": [
    {
     "name": "stdout",
     "output_type": "stream",
     "text": [
      "Representación de las caracteristicas filtradas sin considerar 'temp' (sin escalar)\n",
      "KAGG EVAL TRAIN =0.302409\n",
      "KAGG EVAL VAL =0.393547\n",
      "Representación de las caracteristicas filtradas sin considerar 'temp' (escaladas)\n"
     ]
    },
    {
     "name": "stderr",
     "output_type": "stream",
     "text": [
      "/etc/Anaconda3/lib/python3.6/site-packages/sklearn/utils/validation.py:444: DataConversionWarning: Data with input dtype int64 was converted to float64 by StandardScaler.\n",
      "  warnings.warn(msg, DataConversionWarning)\n"
     ]
    },
    {
     "name": "stdout",
     "output_type": "stream",
     "text": [
      "KAGG EVAL TRAIN =0.302409\n",
      "KAGG EVAL VAL =0.396293\n"
     ]
    }
   ],
   "source": [
    "print (\"Representación de las caracteristicas filtradas sin considerar 'temp' (sin escalar)\")\n",
    "X_train,Y_train,X_val,Y_val,X_test,Y_test = caracterizar(df2,\"filtradas-1\")\n",
    "modelF1S = Tree(random_state=0,max_depth=10) \n",
    "modelF1S.fit(X_train,Y_train)\n",
    "Y_pred_train = modelF1S.predict(X_train)\n",
    "kagg_train = eval_bikemodel(Y_pred_train,Y_train)\n",
    "print (\"KAGG EVAL TRAIN =%f\"%kagg_train)\n",
    "Y_pred_val = modelF1S.predict(X_val)\n",
    "kagg_val = eval_bikemodel(Y_pred_val,Y_val)\n",
    "print (\"KAGG EVAL VAL =%f\"%kagg_val)\n",
    "\n",
    "print (\"Representación de las caracteristicas filtradas sin considerar 'temp' (escaladas)\")\n",
    "scaler=StandardScaler()\n",
    "X_train = scaler.fit_transform(X_train)\n",
    "X_test = scaler.transform(X_test)\n",
    "X_val = scaler.fit_transform(X_val)\n",
    "modelF1E = Tree(random_state=0,max_depth=10) \n",
    "modelF1E.fit(X_train,Y_train)\n",
    "\n",
    "Y_pred_train = modelF1E.predict(X_train)\n",
    "kagg_train = eval_bikemodel(Y_pred_train,Y_train)\n",
    "print (\"KAGG EVAL TRAIN =%f\"%kagg_train)\n",
    "Y_pred_val = modelF1E.predict(X_val)\n",
    "kagg_val = eval_bikemodel(Y_pred_val,Y_val)\n",
    "print (\"KAGG EVAL VAL =%f\"%kagg_val)   "
   ]
  },
  {
   "cell_type": "code",
   "execution_count": 30,
   "metadata": {},
   "outputs": [
    {
     "name": "stdout",
     "output_type": "stream",
     "text": [
      "Representación de las caracteristicas filtradas sin considerar 'temp' ni 'season' (sin escalar)\n",
      "KAGG EVAL TRAIN =0.302409\n",
      "KAGG EVAL VAL =0.393338\n",
      "Representación de las caracteristicas filtradas sin considerar 'temp' ni 'season' (escaladas)\n",
      "KAGG EVAL TRAIN =0.302409\n",
      "KAGG EVAL VAL =0.396023\n"
     ]
    },
    {
     "name": "stderr",
     "output_type": "stream",
     "text": [
      "/etc/Anaconda3/lib/python3.6/site-packages/sklearn/utils/validation.py:444: DataConversionWarning: Data with input dtype int64 was converted to float64 by StandardScaler.\n",
      "  warnings.warn(msg, DataConversionWarning)\n"
     ]
    }
   ],
   "source": [
    "print (\"Representación de las caracteristicas filtradas sin considerar 'temp' ni 'season' (sin escalar)\")\n",
    "X_train,Y_train,X_val,Y_val,X_test,Y_test = caracterizar(df2,\"filtradas-2\")\n",
    "modelF2S = Tree(random_state=0,max_depth=10) \n",
    "modelF2S.fit(X_train,Y_train)\n",
    "Y_pred_train = modelF2S.predict(X_train)\n",
    "kagg_train = eval_bikemodel(Y_pred_train,Y_train)\n",
    "print (\"KAGG EVAL TRAIN =%f\"%kagg_train)\n",
    "Y_pred_val = modelF2S.predict(X_val)\n",
    "kagg_val = eval_bikemodel(Y_pred_val,Y_val)\n",
    "print (\"KAGG EVAL VAL =%f\"%kagg_val)\n",
    "\n",
    "print (\"Representación de las caracteristicas filtradas sin considerar 'temp' ni 'season' (escaladas)\")\n",
    "scaler=StandardScaler()\n",
    "X_train = scaler.fit_transform(X_train)\n",
    "X_test = scaler.transform(X_test)\n",
    "X_val = scaler.fit_transform(X_val)\n",
    "modelF2E = Tree(random_state=0,max_depth=10) \n",
    "modelF2E.fit(X_train,Y_train)\n",
    "Y_pred_train = modelF2E.predict(X_train)\n",
    "kagg_train = eval_bikemodel(Y_pred_train,Y_train)\n",
    "print (\"KAGG EVAL TRAIN =%f\"%kagg_train)\n",
    "Y_pred_val = modelF2E.predict(X_val)\n",
    "kagg_val = eval_bikemodel(Y_pred_val,Y_val)\n",
    "print (\"KAGG EVAL VAL =%f\"%kagg_val)   "
   ]
  },
  {
   "cell_type": "code",
   "execution_count": 31,
   "metadata": {},
   "outputs": [
    {
     "name": "stdout",
     "output_type": "stream",
     "text": [
      "Representación de las caracteristicas filtradas sin considerar 'temp' ni 'season' ni 'holiday' (sin escalar)\n",
      "KAGG EVAL TRAIN =0.302049\n",
      "KAGG EVAL VAL =0.392313\n",
      "Representación de las caracteristicas filtradas sin considerar 'temp' ni 'season' ni 'holiday' (escaladas)\n",
      "KAGG EVAL TRAIN =0.302049\n",
      "KAGG EVAL VAL =0.395005\n"
     ]
    },
    {
     "name": "stderr",
     "output_type": "stream",
     "text": [
      "/etc/Anaconda3/lib/python3.6/site-packages/sklearn/utils/validation.py:444: DataConversionWarning: Data with input dtype int64 was converted to float64 by StandardScaler.\n",
      "  warnings.warn(msg, DataConversionWarning)\n"
     ]
    }
   ],
   "source": [
    "print (\"Representación de las caracteristicas filtradas sin considerar 'temp' ni 'season' ni 'holiday' (sin escalar)\")\n",
    "X_train,Y_train,X_val,Y_val,X_test,Y_test = caracterizar(df2,\"filtradas-3\")\n",
    "modelF3S = Tree(random_state=0,max_depth=10) \n",
    "modelF3S.fit(X_train,Y_train)\n",
    "Y_pred_train = modelF3S.predict(X_train)\n",
    "kagg_train = eval_bikemodel(Y_pred_train,Y_train)\n",
    "print (\"KAGG EVAL TRAIN =%f\"%kagg_train)\n",
    "Y_pred_val = modelF3S.predict(X_val)\n",
    "kagg_val = eval_bikemodel(Y_pred_val,Y_val)\n",
    "print (\"KAGG EVAL VAL =%f\"%kagg_val)\n",
    "\n",
    "print (\"Representación de las caracteristicas filtradas sin considerar 'temp' ni 'season' ni 'holiday' (escaladas)\")\n",
    "scaler=StandardScaler()\n",
    "X_train = scaler.fit_transform(X_train)\n",
    "X_test = scaler.transform(X_test)\n",
    "X_val = scaler.fit_transform(X_val)\n",
    "modelF3E = Tree(random_state=0,max_depth=10) \n",
    "modelF3E.fit(X_train,Y_train)\n",
    "Y_pred_train = modelF3E.predict(X_train)\n",
    "kagg_train = eval_bikemodel(Y_pred_train,Y_train)\n",
    "print (\"KAGG EVAL TRAIN =%f\"%kagg_train)\n",
    "Y_pred_val = modelF3E.predict(X_val)\n",
    "kagg_val = eval_bikemodel(Y_pred_val,Y_val)\n",
    "print (\"KAGG EVAL VAL =%f\"%kagg_val)  "
   ]
  },
  {
   "cell_type": "code",
   "execution_count": 32,
   "metadata": {},
   "outputs": [
    {
     "name": "stdout",
     "output_type": "stream",
     "text": [
      "Representación de las caracteristicas filtradas 4 (sin escalar)\n"
     ]
    },
    {
     "name": "stderr",
     "output_type": "stream",
     "text": [
      "/etc/Anaconda3/lib/python3.6/site-packages/sklearn/utils/validation.py:444: DataConversionWarning: Data with input dtype int64 was converted to float64 by StandardScaler.\n",
      "  warnings.warn(msg, DataConversionWarning)\n"
     ]
    },
    {
     "name": "stdout",
     "output_type": "stream",
     "text": [
      "KAGG EVAL TRAIN =0.383902\n",
      "KAGG EVAL VAL =0.477641\n",
      "Representación de las caracteristicas filtradas 4 (escaladas)\n",
      "KAGG EVAL TRAIN =0.383902\n",
      "KAGG EVAL VAL =0.477492\n"
     ]
    }
   ],
   "source": [
    "print (\"Representación de las caracteristicas filtradas 4 (sin escalar)\")\n",
    "X_train,Y_train,X_val,Y_val,X_test,Y_test = caracterizar(df2,\"filtradas-4\")\n",
    "modelF4S = Tree(random_state=0,max_depth=10) \n",
    "modelF4S.fit(X_train,Y_train)\n",
    "Y_pred_train = modelF4S.predict(X_train)\n",
    "kagg_train = eval_bikemodel(Y_pred_train,Y_train)\n",
    "print (\"KAGG EVAL TRAIN =%f\"%kagg_train)\n",
    "Y_pred_val = modelF4S.predict(X_val)\n",
    "kagg_val = eval_bikemodel(Y_pred_val,Y_val)\n",
    "print (\"KAGG EVAL VAL =%f\"%kagg_val)\n",
    "\n",
    "print (\"Representación de las caracteristicas filtradas 4 (escaladas)\")\n",
    "scaler=StandardScaler()\n",
    "X_train = scaler.fit_transform(X_train)\n",
    "X_test = scaler.transform(X_test)\n",
    "X_val = scaler.fit_transform(X_val)\n",
    "modelF4E = Tree(random_state=0,max_depth=10) \n",
    "modelF4E.fit(X_train,Y_train)\n",
    "Y_pred_train = modelF4E.predict(X_train)\n",
    "kagg_train = eval_bikemodel(Y_pred_train,Y_train)\n",
    "print (\"KAGG EVAL TRAIN =%f\"%kagg_train) \n",
    "Y_pred_val = modelF4E.predict(X_val)\n",
    "kagg_val = eval_bikemodel(Y_pred_val,Y_val)\n",
    "print (\"KAGG EVAL VAL =%f\"%kagg_val)  "
   ]
  },
  {
   "cell_type": "code",
   "execution_count": 33,
   "metadata": {
    "scrolled": true
   },
   "outputs": [
    {
     "name": "stdout",
     "output_type": "stream",
     "text": [
      "Representación de las caracteristicas filtradas extremo (sin escalar)\n",
      "KAGG EVAL TRAIN =0.437555\n",
      "KAGG EVAL VAL =0.515575\n",
      "Representación de las caracteristicas filtradas extremo (escaladas)\n",
      "KAGG EVAL TRAIN =0.437555\n",
      "KAGG EVAL VAL =0.515575\n"
     ]
    },
    {
     "name": "stderr",
     "output_type": "stream",
     "text": [
      "/etc/Anaconda3/lib/python3.6/site-packages/sklearn/utils/validation.py:444: DataConversionWarning: Data with input dtype int64 was converted to float64 by StandardScaler.\n",
      "  warnings.warn(msg, DataConversionWarning)\n"
     ]
    }
   ],
   "source": [
    "print (\"Representación de las caracteristicas filtradas extremo (sin escalar)\")\n",
    "X_train,Y_train,X_val,Y_val,X_test,Y_test = caracterizar(df2,\"extremo\")\n",
    "modelFES = Tree(random_state=0,max_depth=10) \n",
    "modelFES.fit(X_train,Y_train)\n",
    "Y_pred_train = modelFES.predict(X_train)\n",
    "kagg_train = eval_bikemodel(Y_pred_train,Y_train)\n",
    "print (\"KAGG EVAL TRAIN =%f\"%kagg_train)\n",
    "Y_pred_val = modelFES.predict(X_val)\n",
    "kagg_val = eval_bikemodel(Y_pred_val,Y_val)\n",
    "print (\"KAGG EVAL VAL =%f\"%kagg_val)\n",
    "\n",
    "print (\"Representación de las caracteristicas filtradas extremo (escaladas)\")\n",
    "scaler=StandardScaler()\n",
    "X_train = scaler.fit_transform(X_train)\n",
    "X_test = scaler.transform(X_test)\n",
    "X_val = scaler.fit_transform(X_val)\n",
    "modelFEE = Tree(random_state=0,max_depth=10) \n",
    "modelFEE.fit(X_train,Y_train)\n",
    "Y_pred_train = modelFEE.predict(X_train)\n",
    "kagg_train = eval_bikemodel(Y_pred_train,Y_train)\n",
    "print (\"KAGG EVAL TRAIN =%f\"%kagg_train) \n",
    "Y_pred_val = modelFEE.predict(X_val)\n",
    "kagg_val = eval_bikemodel(Y_pred_val,Y_val)\n",
    "print (\"KAGG EVAL VAL =%f\"%kagg_val)  "
   ]
  },
  {
   "cell_type": "markdown",
   "metadata": {},
   "source": [
    "Luego de estas variaciones y considerando el desempeño de éstos sobre el conjunto de datos de validacion, es posible notar que la mejor corresponde a 'feature-3'. Es decir, aquella representación de las caracteristicas 'workingday','weather','hour','cday','month','year'  \n",
    "\n",
    "En esta se obtuvo:  \n",
    "\n",
    "KAGG EVAL TRAIN = 30.2049%  \n",
    "KAGG EVAL VAL = 39.2313%\n",
    "\n",
    "## hablar de esto y explicar que extremo es muy poca  informacion para una buena generalizacion \n",
    "\n",
    "Podrıa intentar tambien normalizando los datos o normalizando la respuesta. "
   ]
  },
  {
   "cell_type": "code",
   "execution_count": 34,
   "metadata": {},
   "outputs": [
    {
     "name": "stdout",
     "output_type": "stream",
     "text": [
      "KAGG EVAL TRAIN =3.101284\n",
      "KAGG EVAL VAL =0.403784\n",
      "KAGG EVAL TEST =0.427427\n"
     ]
    }
   ],
   "source": [
    "X_train,Y_train,X_val,Y_val,X_test,Y_test = caracterizar(df2,\"filtradas-3\")\n",
    "\n",
    "#transforma la respuesta (Target)\n",
    "Y_train = np.log(Y_train+1)\n",
    "Y_val = np.log(Y_val+1)\n",
    "        \n",
    "modelBestT = Tree(random_state=0,max_depth=10)\n",
    "modelBestT.fit(X_train,Y_train) \n",
    "Y_pred_train= modelBestT.predict(X_train)\n",
    "Y_pred_val = modelBestT.predict(X_val)\n",
    "Y_pred_test= modelBestT.predict(X_test)\n",
    "\n",
    "#volver a la variable original\n",
    "Y_val = np.exp(Y_val)-1\n",
    "Y_pred_train=np.exp(Y_pred_train)-1\n",
    "Y_pred_val = np.exp(Y_pred_val)-1\n",
    "Y_pred_test = np.exp(Y_pred_test)-1\n",
    "kagg_train = eval_bikemodel(Y_pred_train,Y_train)\n",
    "kagg_val = eval_bikemodel(Y_pred_val,Y_val)\n",
    "kagg_test= eval_bikemodel(Y_pred_test,Y_test)\n",
    "print (\"KAGG EVAL TRAIN =%f\"%kagg_train)\n",
    "print (\"KAGG EVAL VAL =%f\"%kagg_val)\n",
    "print (\"KAGG EVAL TEST =%f\"%kagg_test)\n"
   ]
  },
  {
   "cell_type": "code",
   "execution_count": 35,
   "metadata": {},
   "outputs": [
    {
     "name": "stdout",
     "output_type": "stream",
     "text": [
      "KAGG EVAL TRAIN =0.302049\n",
      "KAGG EVAL VAL =0.392313\n",
      "KAGG EVAL TEST =0.414191\n"
     ]
    }
   ],
   "source": [
    "X_train,Y_train,X_val,Y_val,X_test,Y_test = caracterizar(df2,\"filtradas-3\")\n",
    "      \n",
    "modelBestT = Tree(random_state=0,max_depth=10)\n",
    "modelBestT.fit(X_train,Y_train) \n",
    "Y_pred_train= modelBestT.predict(X_train)\n",
    "Y_pred_val = modelBestT.predict(X_val)\n",
    "Y_pred_test= modelBestT.predict(X_test)\n",
    "kagg_train = eval_bikemodel(Y_pred_train,Y_train)\n",
    "kagg_val = eval_bikemodel(Y_pred_val,Y_val)\n",
    "kagg_test= eval_bikemodel(Y_pred_test,Y_test)\n",
    "print (\"KAGG EVAL TRAIN =%f\"%kagg_train)\n",
    "print (\"KAGG EVAL VAL =%f\"%kagg_val)\n",
    "print (\"KAGG EVAL TEST =%f\"%kagg_test)"
   ]
  },
  {
   "cell_type": "markdown",
   "metadata": {},
   "source": [
    "### decir que el no log es bueno no se por que, no lo he pensado. y poner grafico de que 'si, se ve que es mejor'\n",
    "\n",
    "Una observaci ́on importante es que si hace una transformaci ́on a la variable respuesta (por ejemplo ra ́ız cuadrada),debe invertir esta transformaci ́on antes de evaluar el desempe ̃no con eval bikemodel (por ejemplo, elevar al cuadrado si tom ́o ra ́ız cua-drada). Con modificaciones de este tipo, podr ́ıa mejorar su ranking en unas 1000 posiciones, entrando\n",
    "ya al top-1000 con un score del orden de 0.45"
   ]
  },
  {
   "cell_type": "code",
   "execution_count": 36,
   "metadata": {},
   "outputs": [
    {
     "data": {
      "image/png": "[encoded data removed]",
      "text/plain": [
       "<matplotlib.figure.Figure at 0x7f965d3131d0>"
      ]
     },
     "metadata": {},
     "output_type": "display_data"
    }
   ],
   "source": [
    "plt.figure(figsize=(10,5))\n",
    "plt.plot(Y_test, Y_pred_test, '.')\n",
    "plt.plot(range(1000),range(1000),color='lime')\n",
    "plt.xlabel('Valor real')\n",
    "plt.ylabel('Valor estimado')\n",
    "plt.show()"
   ]
  },
  {
   "cell_type": "markdown",
   "metadata": {
    "collapsed": true
   },
   "source": [
    "#### E. Entrene una SVM no lineal para resolver el problema midiendo el efecto de las distintas representaciones descubiertas\n",
    "\n",
    "Usando parámetros por defecto para la SVM, se debiese obtener un score del orden de 0.344, quedando definitivamente en el top-10 de la competencia.\n",
    "\n",
    "##### Codificación de las variables categóricas  \n",
    "https://pandas.pydata.org/pandas-docs/stable/generated/pandas.get_dummies.html"
   ]
  },
  {
   "cell_type": "code",
   "execution_count": 37,
   "metadata": {
    "collapsed": true
   },
   "outputs": [],
   "source": [
    "def categorizar(df, features):\n",
    "    if features == \"todas\":\n",
    "        n_features = ['season','holiday','workingday','weather','temp','atemp','humidity','windspeed','hour','cday','month','year']\n",
    "    elif features == \"originales\":\n",
    "        n_features = ['season','holiday','workingday','weather','temp','atemp','humidity','windspeed','hour']\n",
    "    elif features == \"filtradas\":\n",
    "        n_features = ['season','holiday','workingday','weather','hour','cday','month','year','temp']\n",
    "    elif features == \"filtradas-1\":\n",
    "        n_features = ['season','holiday','workingday','weather','hour','cday','month','year']\n",
    "    elif features == \"filtradas-2\":\n",
    "        n_features = ['holiday','workingday','weather','hour','cday','month','year']\n",
    "    elif features == \"filtradas-3\":\n",
    "        n_features = ['workingday','weather','hour','cday','month','year']\n",
    "    elif features == \"filtradas-4\":\n",
    "        n_features = ['workingday','weather','hour','cday','month']\n",
    "    elif features == \"extremo\":\n",
    "        n_features = ['workingday','hour','cday','month']\n",
    "        \n",
    "    \n",
    "    todo_categ= set(['season','cday','month', 'hour', 'weather'])\n",
    "    categ_efectivo=todo_categ.intersection(n_features)\n",
    "        \n",
    "    Xdf=df.ix[:,n_features]\n",
    "    Xdf=pd.get_dummies(Xdf, columns=categ_efectivo)\n",
    "    Ydf=df.ix[:,'count'] #target\n",
    "    X_train = Xdf[0:ntrain].values\n",
    "    X_val = Xdf[ntrain:nval].values\n",
    "    X_test = Xdf[nval:].values\n",
    "    Y_train = Ydf[0:ntrain].values\n",
    "    Y_val = Ydf[ntrain:nval].values\n",
    "    Y_test = Ydf[nval:].values\n",
    "    \n",
    "    scaler = StandardScaler()\n",
    "    X_train = scaler.fit_transform(X_train)\n",
    "    X_test = scaler.transform(X_test)\n",
    "    X_val = scaler.fit_transform(X_val)\n",
    "\n",
    "    return X_train,Y_train,X_val,Y_val,X_test,Y_test"
   ]
  },
  {
   "cell_type": "markdown",
   "metadata": {},
   "source": [
    "##### Escalar los atributos (centrados y con rangos comparables)"
   ]
  },
  {
   "cell_type": "code",
   "execution_count": 38,
   "metadata": {},
   "outputs": [
    {
     "data": {
      "image/png": "[encoded data removed]",
      "text/plain": [
       "<matplotlib.figure.Figure at 0x7f965cfd4c18>"
      ]
     },
     "metadata": {},
     "output_type": "display_data"
    }
   ],
   "source": [
    "Y = df.ix[:,'count']\n",
    "Ylog = np.log(Y+1)\n",
    "f, ax = plt.subplots(1,2) \n",
    "ax[0].boxplot(Y)\n",
    "ax[0].set_title('# Bicicletas')\n",
    "ax[1].boxplot(Ylog)\n",
    "ax[1].set_title('# Bicicletas transformado')\n",
    "plt.show()"
   ]
  },
  {
   "cell_type": "markdown",
   "metadata": {},
   "source": [
    "## se ve que log los centra y bla\n"
   ]
  },
  {
   "cell_type": "code",
   "execution_count": 39,
   "metadata": {},
   "outputs": [
    {
     "name": "stdout",
     "output_type": "stream",
     "text": [
      "Representacion de todas las caracteristicas aplicando Log() (escaladas)\n",
      "KAGG EVAL TRAIN =0.220518\n",
      "KAGG EVAL VAL =0.293279\n",
      "Representacion de todas las caracteristicas (escaladas)\n",
      "KAGG EVAL TRAIN =1.116793\n",
      "KAGG EVAL VAL =1.094467\n"
     ]
    }
   ],
   "source": [
    "from sklearn.svm import SVR\n",
    "print (\"Representacion de todas las caracteristicas aplicando Log() (escaladas)\")\n",
    "X_train,Y_train,X_val,Y_val,X_test,Y_test = categorizar(df2,\"todas\")\n",
    "modelSS = SVR()\n",
    "Y_train= np.log(Y_train+1)\n",
    "modelSS.fit(X_train,Y_train)\n",
    "\n",
    "Y_pred_train= modelSS.predict(X_train)\n",
    "Y_pred_val = modelSS.predict(X_val)\n",
    "\n",
    "Y_train=np.exp(Y_train)-1\n",
    "Y_pred_train=np.exp(Y_pred_train)-1\n",
    "Y_pred_val=np.exp(Y_pred_val)-1\n",
    "kagg_train = eval_bikemodel(Y_pred_train,Y_train)\n",
    "kagg_val = eval_bikemodel(Y_pred_val,Y_val)\n",
    "print (\"KAGG EVAL TRAIN =%f\"%kagg_train)\n",
    "print (\"KAGG EVAL VAL =%f\"%kagg_val)\n",
    "\n",
    "print (\"Representacion de todas las caracteristicas (escaladas)\")   \n",
    "modelSE = SVR()\n",
    "modelSE.fit(X_train,Y_train)\n",
    "Y_pred_train = modelSE.predict(X_train)\n",
    "Y_pred_val = modelSE.predict(X_val)\n",
    "kagg_train = eval_bikemodel(Y_pred_train,Y_train)\n",
    "print (\"KAGG EVAL TRAIN =%f\"%kagg_train)      \n",
    "kagg_val = eval_bikemodel(Y_pred_val,Y_val)\n",
    "print (\"KAGG EVAL VAL =%f\"%kagg_val)      "
   ]
  },
  {
   "cell_type": "markdown",
   "metadata": {},
   "source": [
    "### se observa que la evaluacion kagg empeora considerablemente cuando no se aplica la transformacion de rango (log) sobre la variable target"
   ]
  },
  {
   "cell_type": "code",
   "execution_count": 40,
   "metadata": {},
   "outputs": [
    {
     "name": "stdout",
     "output_type": "stream",
     "text": [
      "Representacion de las caracteristicas originales aplicando Log() (escaladas)\n",
      "KAGG EVAL TRAIN =0.363297\n",
      "KAGG EVAL VAL =0.415765\n"
     ]
    }
   ],
   "source": [
    "print (\"Representacion de las caracteristicas originales aplicando Log() (escaladas)\")\n",
    "X_train,Y_train,X_val,Y_val,X_test,Y_test = categorizar(df2,\"originales\")\n",
    "modelSOS = SVR()\n",
    "Y_train= np.log(Y_train+1)\n",
    "modelSOS.fit(X_train,Y_train)\n",
    "\n",
    "Y_pred_train = modelSOS.predict(X_train)\n",
    "Y_pred_val = modelSOS.predict(X_val)\n",
    "\n",
    "Y_train=np.exp(Y_train)-1\n",
    "Y_pred_train=np.exp(Y_pred_train)-1\n",
    "Y_pred_val=np.exp(Y_pred_val)-1\n",
    "kagg_train = eval_bikemodel(Y_pred_train,Y_train)\n",
    "print (\"KAGG EVAL TRAIN =%f\"%kagg_train)\n",
    "kagg_val = eval_bikemodel(Y_pred_val,Y_val)\n",
    "print (\"KAGG EVAL VAL =%f\"%kagg_val)"
   ]
  },
  {
   "cell_type": "markdown",
   "metadata": {},
   "source": [
    "### decir que si es mayor que el 41.6% entonces no se considerara como opcion de filtro en las siguientes config."
   ]
  },
  {
   "cell_type": "code",
   "execution_count": 41,
   "metadata": {},
   "outputs": [
    {
     "name": "stdout",
     "output_type": "stream",
     "text": [
      "Representacion de las caracteristicas filtradas aplicando Log() (escaladas)\n",
      "KAGG EVAL TRAIN =0.236058\n",
      "KAGG EVAL VAL =0.303102\n"
     ]
    }
   ],
   "source": [
    "print (\"Representacion de las caracteristicas filtradas aplicando Log() (escaladas)\")\n",
    "X_train,Y_train,X_val,Y_val,X_test,Y_test = categorizar(df2,\"filtradas\")\n",
    "modelSFS = SVR()\n",
    "Y_train= np.log(Y_train+1)\n",
    "modelSFS.fit(X_train,Y_train)\n",
    "\n",
    "Y_pred_train = modelSFS.predict(X_train)\n",
    "Y_pred_val = modelSFS.predict(X_val)\n",
    "\n",
    "Y_train=np.exp(Y_train)-1\n",
    "Y_pred_train=np.exp(Y_pred_train)-1\n",
    "Y_pred_val=np.exp(Y_pred_val)-1\n",
    "\n",
    "kagg_train = eval_bikemodel(Y_pred_train,Y_train)\n",
    "print (\"KAGG EVAL TRAIN =%f\"%kagg_train)\n",
    "kagg_val = eval_bikemodel(Y_pred_val,Y_val)\n",
    "print (\"KAGG EVAL VAL =%f\"%kagg_val)"
   ]
  },
  {
   "cell_type": "code",
   "execution_count": 42,
   "metadata": {},
   "outputs": [
    {
     "name": "stdout",
     "output_type": "stream",
     "text": [
      "Representacion de las caracteristicas filtradas sin considerar 'temp' aplicando Log() (escaladas)\n"
     ]
    },
    {
     "name": "stderr",
     "output_type": "stream",
     "text": [
      "/etc/Anaconda3/lib/python3.6/site-packages/sklearn/utils/validation.py:444: DataConversionWarning: Data with input dtype int64 was converted to float64 by StandardScaler.\n",
      "  warnings.warn(msg, DataConversionWarning)\n"
     ]
    },
    {
     "name": "stdout",
     "output_type": "stream",
     "text": [
      "KAGG EVAL TRAIN =0.251330\n",
      "KAGG EVAL VAL =0.320551\n"
     ]
    }
   ],
   "source": [
    "print (\"Representacion de las caracteristicas filtradas sin considerar 'temp' aplicando Log() (escaladas)\")\n",
    "X_train,Y_train,X_val,Y_val,X_test,Y_test = categorizar(df2,\"filtradas-1\")\n",
    "modelS1S = SVR()\n",
    "Y_train= np.log(Y_train+1)\n",
    "modelS1S.fit(X_train,Y_train)\n",
    "\n",
    "Y_pred_train = modelS1S.predict(X_train)\n",
    "Y_pred_val = modelS1S.predict(X_val)\n",
    "\n",
    "Y_train=np.exp(Y_train)-1\n",
    "Y_pred_train=np.exp(Y_pred_train)-1\n",
    "Y_pred_val=np.exp(Y_pred_val)-1\n",
    "kagg_train = eval_bikemodel(Y_pred_train,Y_train)\n",
    "print (\"KAGG EVAL TRAIN =%f\"%kagg_train)\n",
    "kagg_val = eval_bikemodel(Y_pred_val,Y_val)\n",
    "print (\"KAGG EVAL VAL =%f\"%kagg_val)"
   ]
  },
  {
   "cell_type": "code",
   "execution_count": 43,
   "metadata": {},
   "outputs": [
    {
     "name": "stdout",
     "output_type": "stream",
     "text": [
      "Representacion de las caracteristicas filtradas sin considerar 'temp' ni 'season' aplicando Log() (escaladas)\n"
     ]
    },
    {
     "name": "stderr",
     "output_type": "stream",
     "text": [
      "/etc/Anaconda3/lib/python3.6/site-packages/sklearn/utils/validation.py:444: DataConversionWarning: Data with input dtype int64 was converted to float64 by StandardScaler.\n",
      "  warnings.warn(msg, DataConversionWarning)\n"
     ]
    },
    {
     "name": "stdout",
     "output_type": "stream",
     "text": [
      "KAGG EVAL TRAIN =0.250898\n",
      "KAGG EVAL VAL =0.321538\n"
     ]
    }
   ],
   "source": [
    "print (\"Representacion de las caracteristicas filtradas sin considerar 'temp' ni 'season' aplicando Log() (escaladas)\")\n",
    "X_train,Y_train,X_val,Y_val,X_test,Y_test = categorizar(df2,\"filtradas-2\")\n",
    "modelS2S = SVR()\n",
    "Y_train= np.log(Y_train+1)\n",
    "modelS2S.fit(X_train,Y_train)\n",
    "\n",
    "Y_pred_train = modelS2S.predict(X_train)\n",
    "Y_pred_val = modelS2S.predict(X_val)\n",
    "Y_train=np.exp(Y_train)-1\n",
    "Y_pred_train=np.exp(Y_pred_train)-1\n",
    "Y_pred_val=np.exp(Y_pred_val)-1\n",
    "kagg_train = eval_bikemodel(Y_pred_train,Y_train)\n",
    "print (\"KAGG EVAL TRAIN =%f\"%kagg_train)\n",
    "kagg_val = eval_bikemodel(Y_pred_val,Y_val)\n",
    "print (\"KAGG EVAL VAL =%f\"%kagg_val)"
   ]
  },
  {
   "cell_type": "code",
   "execution_count": 44,
   "metadata": {},
   "outputs": [
    {
     "name": "stdout",
     "output_type": "stream",
     "text": [
      "Representacion de las caracteristicas filtradas sin considerar 'temp' ni 'season' ni 'holiday' aplicando Log() (escaladas)\n"
     ]
    },
    {
     "name": "stderr",
     "output_type": "stream",
     "text": [
      "/etc/Anaconda3/lib/python3.6/site-packages/sklearn/utils/validation.py:444: DataConversionWarning: Data with input dtype int64 was converted to float64 by StandardScaler.\n",
      "  warnings.warn(msg, DataConversionWarning)\n"
     ]
    },
    {
     "name": "stdout",
     "output_type": "stream",
     "text": [
      "KAGG EVAL TRAIN =0.254025\n",
      "KAGG EVAL VAL =0.321922\n"
     ]
    }
   ],
   "source": [
    "print (\"Representacion de las caracteristicas filtradas sin considerar 'temp' ni 'season' ni 'holiday' aplicando Log() (escaladas)\")\n",
    "X_train,Y_train,X_val,Y_val,X_test,Y_test = categorizar(df2,\"filtradas-3\")\n",
    "modelS3S = SVR()\n",
    "Y_train= np.log(Y_train+1)\n",
    "modelS3S.fit(X_train,Y_train)\n",
    "\n",
    "Y_pred_train = modelS3S.predict(X_train)\n",
    "Y_pred_val = modelS3S.predict(X_val)\n",
    "Y_train=np.exp(Y_train)-1\n",
    "Y_pred_train=np.exp(Y_pred_train)-1\n",
    "Y_pred_val=np.exp(Y_pred_val)-1\n",
    "kagg_train = eval_bikemodel(Y_pred_train,Y_train)\n",
    "print (\"KAGG EVAL TRAIN =%f\"%kagg_train)\n",
    "kagg_val = eval_bikemodel(Y_pred_val,Y_val)\n",
    "print (\"KAGG EVAL VAL =%f\"%kagg_val)"
   ]
  },
  {
   "cell_type": "code",
   "execution_count": 45,
   "metadata": {},
   "outputs": [
    {
     "name": "stdout",
     "output_type": "stream",
     "text": [
      "Representacion de las caracteristicas filtradas 4 aplicando Log() (escaladas)\n"
     ]
    },
    {
     "name": "stderr",
     "output_type": "stream",
     "text": [
      "/etc/Anaconda3/lib/python3.6/site-packages/sklearn/utils/validation.py:444: DataConversionWarning: Data with input dtype int64 was converted to float64 by StandardScaler.\n",
      "  warnings.warn(msg, DataConversionWarning)\n"
     ]
    },
    {
     "name": "stdout",
     "output_type": "stream",
     "text": [
      "KAGG EVAL TRAIN =0.359620\n",
      "KAGG EVAL VAL =0.446842\n"
     ]
    }
   ],
   "source": [
    "print (\"Representacion de las caracteristicas filtradas 4 aplicando Log() (escaladas)\")\n",
    "X_train,Y_train,X_val,Y_val,X_test,Y_test = categorizar(df2,\"filtradas-4\")\n",
    "modelS4S = SVR()\n",
    "Y_train= np.log(Y_train+1)\n",
    "modelS4S.fit(X_train,Y_train)\n",
    "Y_pred_train = modelS4S.predict(X_train)\n",
    "Y_pred_val = modelS4S.predict(X_val)\n",
    "Y_train=np.exp(Y_train)-1\n",
    "Y_pred_train=np.exp(Y_pred_train)-1\n",
    "Y_pred_val=np.exp(Y_pred_val)-1\n",
    "kagg_train = eval_bikemodel(Y_pred_train,Y_train)\n",
    "print (\"KAGG EVAL TRAIN =%f\"%kagg_train)\n",
    "kagg_val = eval_bikemodel(Y_pred_val,Y_val)\n",
    "print (\"KAGG EVAL VAL =%f\"%kagg_val)"
   ]
  },
  {
   "cell_type": "code",
   "execution_count": 46,
   "metadata": {},
   "outputs": [
    {
     "name": "stdout",
     "output_type": "stream",
     "text": [
      "Representacion de las caracteristicas filtradas extremo aplicando Log() (escaladas)\n"
     ]
    },
    {
     "name": "stderr",
     "output_type": "stream",
     "text": [
      "/etc/Anaconda3/lib/python3.6/site-packages/sklearn/utils/validation.py:444: DataConversionWarning: Data with input dtype int64 was converted to float64 by StandardScaler.\n",
      "  warnings.warn(msg, DataConversionWarning)\n"
     ]
    },
    {
     "name": "stdout",
     "output_type": "stream",
     "text": [
      "KAGG EVAL TRAIN =0.427594\n",
      "KAGG EVAL VAL =0.494060\n"
     ]
    }
   ],
   "source": [
    "print (\"Representacion de las caracteristicas filtradas extremo aplicando Log() (escaladas)\")\n",
    "X_train,Y_train,X_val,Y_val,X_test,Y_test = categorizar(df2,\"extremo\")\n",
    "modelSES = SVR()\n",
    "Y_train= np.log(Y_train+1)\n",
    "modelSES.fit(X_train,Y_train)\n",
    "Y_pred_train = modelSES.predict(X_train)\n",
    "Y_pred_val = modelSES.predict(X_val)\n",
    "Y_train=np.exp(Y_train)-1\n",
    "Y_pred_train=np.exp(Y_pred_train)-1\n",
    "Y_pred_val=np.exp(Y_pred_val)-1\n",
    "kagg_train = eval_bikemodel(Y_pred_train,Y_train)\n",
    "print (\"KAGG EVAL TRAIN =%f\"%kagg_train)\n",
    "kagg_val = eval_bikemodel(Y_pred_val,Y_val)\n",
    "print (\"KAGG EVAL VAL =%f\"%kagg_val)"
   ]
  },
  {
   "cell_type": "markdown",
   "metadata": {
    "collapsed": true
   },
   "source": [
    "### decir que justamente las ultimas dos opciones fueron mayores al 41.6% y que empeoran la soluvion\n"
   ]
  },
  {
   "cell_type": "code",
   "execution_count": 47,
   "metadata": {},
   "outputs": [
    {
     "name": "stdout",
     "output_type": "stream",
     "text": [
      "Representacion de las caracteristicas originales aplicando Log() (escaladas)\n",
      "KAGG EVAL VAL =0.293279\n",
      "KAGG EVAL TEST =0.321826\n"
     ]
    }
   ],
   "source": [
    "print (\"Representacion de las caracteristicas originales aplicando Log() (escaladas)\")\n",
    "X_train,Y_train,X_val,Y_val,X_test,Y_test = categorizar(df2,\"todas\")\n",
    "modelSS = SVR()\n",
    "Y_train= np.log(Y_train+1)\n",
    "modelSS.fit(X_train,Y_train)\n",
    "Y_pred_val = modelSS.predict(X_val)\n",
    "Y_train=np.exp(Y_train)-1\n",
    "Y_pred_val=np.exp(Y_pred_val)-1\n",
    "\n",
    "Y_pred_test = modelSS.predict(X_test)\n",
    "Y_pred_test=np.exp(Y_pred_test)-1\n",
    "\n",
    "kagg_val = eval_bikemodel(Y_pred_val,Y_val)\n",
    "print (\"KAGG EVAL VAL =%f\"%kagg_val)\n",
    "kagg_test = eval_bikemodel(Y_pred_test,Y_test)\n",
    "print (\"KAGG EVAL TEST =%f\"%kagg_test)"
   ]
  },
  {
   "cell_type": "code",
   "execution_count": 48,
   "metadata": {},
   "outputs": [
    {
     "name": "stdout",
     "output_type": "stream",
     "text": [
      "Representacion de las caracteristicas originales aplicando Log() (escaladas)\n",
      "KAGG EVAL VAL =0.303102\n",
      "KAGG EVAL TEST =0.329759\n"
     ]
    }
   ],
   "source": [
    "print (\"Representacion de las caracteristicas originales aplicando Log() (escaladas)\")\n",
    "X_train,Y_train,X_val,Y_val,X_test,Y_test = categorizar(df2,\"filtradas\")\n",
    "modelSFS= SVR()\n",
    "Y_train= np.log(Y_train+1)\n",
    "modelSFS.fit(X_train,Y_train)\n",
    "Y_pred_val = modelSFS.predict(X_val)\n",
    "Y_train=np.exp(Y_train)-1\n",
    "Y_pred_val=np.exp(Y_pred_val)-1\n",
    "\n",
    "Y_pred_test = modelSFS.predict(X_test)\n",
    "Y_pred_test=np.exp(Y_pred_test)-1\n",
    "\n",
    "kagg_val = eval_bikemodel(Y_pred_val,Y_val)\n",
    "print (\"KAGG EVAL VAL =%f\"%kagg_val)\n",
    "kagg_test = eval_bikemodel(Y_pred_test,Y_test)\n",
    "print (\"KAGG EVAL TEST =%f\"%kagg_test)"
   ]
  },
  {
   "cell_type": "markdown",
   "metadata": {},
   "source": [
    "### Se observa uqe lo mejor para SVM es la configuraración de todas las caracteristicas (originales + nuevas)"
   ]
  },
  {
   "cell_type": "markdown",
   "metadata": {
    "collapsed": true
   },
   "source": [
    "#### F. Mejorar la SVM definida en E mediante la modificación de los hiper-parámetros de la máquina \n",
    "\n",
    "Se propone entonces variar las configuraciones de máquinas anteriores mediante el parámetro de regularización C, epsilon y kernel."
   ]
  },
  {
   "cell_type": "markdown",
   "metadata": {},
   "source": [
    "###### Kernel RBF"
   ]
  },
  {
   "cell_type": "code",
   "execution_count": 49,
   "metadata": {},
   "outputs": [
    {
     "name": "stdout",
     "output_type": "stream",
     "text": [
      "Representacion de todas las caracteristicas aplicando Log() (escaladas)\n",
      "KAGG EVAL TRAIN =1.426403\n",
      "KAGG EVAL VAL =1.400162\n"
     ]
    }
   ],
   "source": [
    "X_train,Y_train,X_val,Y_val,X_test,Y_test = categorizar(df2,\"todas\")\n",
    "#todas, filtradas, filtradas-1\n",
    "modelR1 = SVR(C=0.001,epsilon=0.001, kernel='rbf')\n",
    "# C= 0.001, 0.01, 0.1, 1, 10, 100\n",
    "# epsilon= 0.001, 0.01, 0.1, 1, 10, 100\n",
    "#modelSES = SVR()\n",
    "print (\"Representacion de todas las caracteristicas aplicando Log() (escaladas)\")\n",
    "Y_train= np.log(Y_train+1)\n",
    "modelR1.fit(X_train,Y_train)\n",
    "Y_pred_train= modelR1.predict(X_train)\n",
    "Y_pred_val = modelR1.predict(X_val)\n",
    "Y_train=np.exp(Y_train)-1\n",
    "Y_pred_train=np.exp(Y_pred_train)-1\n",
    "Y_pred_val=np.exp(Y_pred_val)-1\n",
    "kagg_train = eval_bikemodel(Y_pred_train,Y_train)\n",
    "kagg_val = eval_bikemodel(Y_pred_val,Y_val)\n",
    "print (\"KAGG EVAL TRAIN =%f\"%kagg_train)\n",
    "print (\"KAGG EVAL VAL =%f\"%kagg_val)\n",
    "\n",
    "\n"
   ]
  },
  {
   "cell_type": "code",
   "execution_count": 50,
   "metadata": {
    "collapsed": true
   },
   "outputs": [],
   "source": [
    "# C= 0.001, 0.01, 0.1, 1, 10, 100\n",
    "# epsilon= 0.001, 0.01, 0.1, 1, 10, 100\n",
    "    \n",
    "def iterar_kernels(kernel, C, epsilon, features):\n",
    "    X_train,Y_train,X_val,Y_val,X_test,Y_test = categorizar(df2,features)\n",
    "    model = SVR(C=C,epsilon=epsilon, kernel=kernel)\n",
    "    print (\"Representacion de aplicando Log() y escalando datos a las caracteristicas: \",features)\n",
    "    Y_train= np.log(Y_train+1)\n",
    "    model.fit(X_train,Y_train)\n",
    "    Y_pred_train= model.predict(X_train)\n",
    "    Y_pred_val = model.predict(X_val)\n",
    "    Y_train=np.exp(Y_train)-1\n",
    "    Y_pred_train=np.exp(Y_pred_train)-1\n",
    "    Y_pred_val=np.exp(Y_pred_val)-1\n",
    "    kagg_train = eval_bikemodel(Y_pred_train,Y_train)\n",
    "    kagg_val = eval_bikemodel(Y_pred_val,Y_val)\n",
    "    #print (\"KAGG EVAL TRAIN =%f\"%kagg_train)\n",
    "    #print (\"KAGG EVAL VAL =%f\"%kagg_val)\n",
    "    return kagg_train, kagg_val"
   ]
  },
  {
   "cell_type": "code",
   "execution_count": 51,
   "metadata": {},
   "outputs": [
    {
     "name": "stdout",
     "output_type": "stream",
     "text": [
      "[[0.01, 1, 10, 1000], [0.01, 1], ['rbf', 'poly', 'linear'], ['todas', 'filtradas']]\n"
     ]
    }
   ],
   "source": [
    "import itertools\n",
    "C= [0.01, 1, 10, 1000]\n",
    "eps= [0.01, 1]\n",
    "kernels= [\"rbf\", \"poly\", \"linear\"]\n",
    "features=[\"todas\", \"filtradas\"]\n",
    "combine= []\n",
    "combine.append(C)\n",
    "combine.append(eps)\n",
    "combine.append(kernels)\n",
    "combine.append(features)\n",
    "print(combine)\n"
   ]
  },
  {
   "cell_type": "code",
   "execution_count": 53,
   "metadata": {},
   "outputs": [
    {
     "data": {
      "text/plain": [
       "[(0.01, 0.01, 'rbf', 'todas'),\n",
       " (0.01, 0.01, 'rbf', 'filtradas'),\n",
       " (0.01, 0.01, 'poly', 'todas'),\n",
       " (0.01, 0.01, 'poly', 'filtradas'),\n",
       " (0.01, 0.01, 'linear', 'todas'),\n",
       " (0.01, 0.01, 'linear', 'filtradas'),\n",
       " (0.01, 1, 'rbf', 'todas'),\n",
       " (0.01, 1, 'rbf', 'filtradas'),\n",
       " (0.01, 1, 'poly', 'todas'),\n",
       " (0.01, 1, 'poly', 'filtradas'),\n",
       " (0.01, 1, 'linear', 'todas'),\n",
       " (0.01, 1, 'linear', 'filtradas'),\n",
       " (1, 0.01, 'rbf', 'todas'),\n",
       " (1, 0.01, 'rbf', 'filtradas'),\n",
       " (1, 0.01, 'poly', 'todas'),\n",
       " (1, 0.01, 'poly', 'filtradas'),\n",
       " (1, 0.01, 'linear', 'todas'),\n",
       " (1, 0.01, 'linear', 'filtradas'),\n",
       " (1, 1, 'rbf', 'todas'),\n",
       " (1, 1, 'rbf', 'filtradas'),\n",
       " (1, 1, 'poly', 'todas'),\n",
       " (1, 1, 'poly', 'filtradas'),\n",
       " (1, 1, 'linear', 'todas'),\n",
       " (1, 1, 'linear', 'filtradas'),\n",
       " (10, 0.01, 'rbf', 'todas'),\n",
       " (10, 0.01, 'rbf', 'filtradas'),\n",
       " (10, 0.01, 'poly', 'todas'),\n",
       " (10, 0.01, 'poly', 'filtradas'),\n",
       " (10, 0.01, 'linear', 'todas'),\n",
       " (10, 0.01, 'linear', 'filtradas'),\n",
       " (10, 1, 'rbf', 'todas'),\n",
       " (10, 1, 'rbf', 'filtradas'),\n",
       " (10, 1, 'poly', 'todas'),\n",
       " (10, 1, 'poly', 'filtradas'),\n",
       " (10, 1, 'linear', 'todas'),\n",
       " (10, 1, 'linear', 'filtradas'),\n",
       " (1000, 0.01, 'rbf', 'todas'),\n",
       " (1000, 0.01, 'rbf', 'filtradas'),\n",
       " (1000, 0.01, 'poly', 'todas'),\n",
       " (1000, 0.01, 'poly', 'filtradas'),\n",
       " (1000, 0.01, 'linear', 'todas'),\n",
       " (1000, 0.01, 'linear', 'filtradas'),\n",
       " (1000, 1, 'rbf', 'todas'),\n",
       " (1000, 1, 'rbf', 'filtradas'),\n",
       " (1000, 1, 'poly', 'todas'),\n",
       " (1000, 1, 'poly', 'filtradas'),\n",
       " (1000, 1, 'linear', 'todas'),\n",
       " (1000, 1, 'linear', 'filtradas')]"
      ]
     },
     "execution_count": 53,
     "metadata": {},
     "output_type": "execute_result"
    }
   ],
   "source": [
    "combina2= list(itertools.product(*combine))\n",
    "combina2"
   ]
  },
  {
   "cell_type": "markdown",
   "metadata": {},
   "source": [
    "# NO EJECUTAR LA SIGUIENTE CELDA"
   ]
  },
  {
   "cell_type": "code",
   "execution_count": null,
   "metadata": {
    "scrolled": false
   },
   "outputs": [
    {
     "name": "stdout",
     "output_type": "stream",
     "text": [
      "Representacion de aplicando Log() y escalando datos a las caracteristicas:  todas\n",
      "KAGG EVAL TRAIN BAJO KERNEL  rbf , C=  0.01  Y EPS=  0.01 EQUIVALE A  1.09057985634\n",
      "KAGG EVAL VAL BAJO KERNEL  rbf , C=  0.01  Y EPS=  0.01 EQUIVALE A  1.0698686588\n",
      "Representacion de aplicando Log() y escalando datos a las caracteristicas:  filtradas\n",
      "KAGG EVAL TRAIN BAJO KERNEL  rbf , C=  0.01  Y EPS=  0.01 EQUIVALE A  1.10659721832\n",
      "KAGG EVAL VAL BAJO KERNEL  rbf , C=  0.01  Y EPS=  0.01 EQUIVALE A  1.08468199031\n",
      "Representacion de aplicando Log() y escalando datos a las caracteristicas:  todas\n",
      "KAGG EVAL TRAIN BAJO KERNEL  poly , C=  0.01  Y EPS=  0.01 EQUIVALE A  1.279673964\n",
      "KAGG EVAL VAL BAJO KERNEL  poly , C=  0.01  Y EPS=  0.01 EQUIVALE A  1.25299951279\n",
      "Representacion de aplicando Log() y escalando datos a las caracteristicas:  filtradas\n",
      "KAGG EVAL TRAIN BAJO KERNEL  poly , C=  0.01  Y EPS=  0.01 EQUIVALE A  1.28153002034\n",
      "KAGG EVAL VAL BAJO KERNEL  poly , C=  0.01  Y EPS=  0.01 EQUIVALE A  1.25429268593\n",
      "Representacion de aplicando Log() y escalando datos a las caracteristicas:  todas\n",
      "KAGG EVAL TRAIN BAJO KERNEL  linear , C=  0.01  Y EPS=  0.01 EQUIVALE A  0.614841540452\n",
      "KAGG EVAL VAL BAJO KERNEL  linear , C=  0.01  Y EPS=  0.01 EQUIVALE A  0.604898520748\n",
      "Representacion de aplicando Log() y escalando datos a las caracteristicas:  filtradas\n",
      "KAGG EVAL TRAIN BAJO KERNEL  linear , C=  0.01  Y EPS=  0.01 EQUIVALE A  0.615900957244\n",
      "KAGG EVAL VAL BAJO KERNEL  linear , C=  0.01  Y EPS=  0.01 EQUIVALE A  0.607886306723\n",
      "Representacion de aplicando Log() y escalando datos a las caracteristicas:  todas\n",
      "KAGG EVAL TRAIN BAJO KERNEL  rbf , C=  0.01  Y EPS=  1 EQUIVALE A  1.1436306197\n",
      "KAGG EVAL VAL BAJO KERNEL  rbf , C=  0.01  Y EPS=  1 EQUIVALE A  1.14589201122\n",
      "Representacion de aplicando Log() y escalando datos a las caracteristicas:  filtradas\n",
      "KAGG EVAL TRAIN BAJO KERNEL  rbf , C=  0.01  Y EPS=  1 EQUIVALE A  1.15545570416\n",
      "KAGG EVAL VAL BAJO KERNEL  rbf , C=  0.01  Y EPS=  1 EQUIVALE A  1.15635942251\n",
      "Representacion de aplicando Log() y escalando datos a las caracteristicas:  todas\n",
      "KAGG EVAL TRAIN BAJO KERNEL  poly , C=  0.01  Y EPS=  1 EQUIVALE A  1.28115931986\n",
      "KAGG EVAL VAL BAJO KERNEL  poly , C=  0.01  Y EPS=  1 EQUIVALE A  1.27539846984\n",
      "Representacion de aplicando Log() y escalando datos a las caracteristicas:  filtradas\n",
      "KAGG EVAL TRAIN BAJO KERNEL  poly , C=  0.01  Y EPS=  1 EQUIVALE A  1.28174229697\n",
      "KAGG EVAL VAL BAJO KERNEL  poly , C=  0.01  Y EPS=  1 EQUIVALE A  1.27501326642\n",
      "Representacion de aplicando Log() y escalando datos a las caracteristicas:  todas\n",
      "KAGG EVAL TRAIN BAJO KERNEL  linear , C=  0.01  Y EPS=  1 EQUIVALE A  0.653916786044\n",
      "KAGG EVAL VAL BAJO KERNEL  linear , C=  0.01  Y EPS=  1 EQUIVALE A  0.68196351575\n",
      "Representacion de aplicando Log() y escalando datos a las caracteristicas:  filtradas\n",
      "KAGG EVAL TRAIN BAJO KERNEL  linear , C=  0.01  Y EPS=  1 EQUIVALE A  0.656991035355\n",
      "KAGG EVAL VAL BAJO KERNEL  linear , C=  0.01  Y EPS=  1 EQUIVALE A  0.68596637619\n",
      "Representacion de aplicando Log() y escalando datos a las caracteristicas:  todas\n",
      "KAGG EVAL TRAIN BAJO KERNEL  rbf , C=  1  Y EPS=  0.01 EQUIVALE A  0.218523882487\n",
      "KAGG EVAL VAL BAJO KERNEL  rbf , C=  1  Y EPS=  0.01 EQUIVALE A  0.292759342642\n",
      "Representacion de aplicando Log() y escalando datos a las caracteristicas:  filtradas\n",
      "KAGG EVAL TRAIN BAJO KERNEL  rbf , C=  1  Y EPS=  0.01 EQUIVALE A  0.236454560085\n",
      "KAGG EVAL VAL BAJO KERNEL  rbf , C=  1  Y EPS=  0.01 EQUIVALE A  0.302732141211\n",
      "Representacion de aplicando Log() y escalando datos a las caracteristicas:  todas\n",
      "KAGG EVAL TRAIN BAJO KERNEL  poly , C=  1  Y EPS=  0.01 EQUIVALE A  0.199065596886\n",
      "KAGG EVAL VAL BAJO KERNEL  poly , C=  1  Y EPS=  0.01 EQUIVALE A  0.345731365664\n",
      "Representacion de aplicando Log() y escalando datos a las caracteristicas:  filtradas\n",
      "KAGG EVAL TRAIN BAJO KERNEL  poly , C=  1  Y EPS=  0.01 EQUIVALE A  0.220668674309\n",
      "KAGG EVAL VAL BAJO KERNEL  poly , C=  1  Y EPS=  0.01 EQUIVALE A  0.357044552224\n",
      "Representacion de aplicando Log() y escalando datos a las caracteristicas:  todas\n",
      "KAGG EVAL TRAIN BAJO KERNEL  linear , C=  1  Y EPS=  0.01 EQUIVALE A  0.616287059123\n",
      "KAGG EVAL VAL BAJO KERNEL  linear , C=  1  Y EPS=  0.01 EQUIVALE A  0.606990285822\n",
      "Representacion de aplicando Log() y escalando datos a las caracteristicas:  filtradas\n",
      "KAGG EVAL TRAIN BAJO KERNEL  linear , C=  1  Y EPS=  0.01 EQUIVALE A  0.61699164579\n",
      "KAGG EVAL VAL BAJO KERNEL  linear , C=  1  Y EPS=  0.01 EQUIVALE A  0.609044953121\n",
      "Representacion de aplicando Log() y escalando datos a las caracteristicas:  todas\n",
      "KAGG EVAL TRAIN BAJO KERNEL  rbf , C=  1  Y EPS=  1 EQUIVALE A  0.63200880861\n",
      "KAGG EVAL VAL BAJO KERNEL  rbf , C=  1  Y EPS=  1 EQUIVALE A  0.683062865752\n",
      "Representacion de aplicando Log() y escalando datos a las caracteristicas:  filtradas\n",
      "KAGG EVAL TRAIN BAJO KERNEL  rbf , C=  1  Y EPS=  1 EQUIVALE A  0.631910944306\n",
      "KAGG EVAL VAL BAJO KERNEL  rbf , C=  1  Y EPS=  1 EQUIVALE A  0.685008039693\n",
      "Representacion de aplicando Log() y escalando datos a las caracteristicas:  todas\n",
      "KAGG EVAL TRAIN BAJO KERNEL  poly , C=  1  Y EPS=  1 EQUIVALE A  0.667991964864\n",
      "KAGG EVAL VAL BAJO KERNEL  poly , C=  1  Y EPS=  1 EQUIVALE A  0.739396480535\n",
      "Representacion de aplicando Log() y escalando datos a las caracteristicas:  filtradas\n",
      "KAGG EVAL TRAIN BAJO KERNEL  poly , C=  1  Y EPS=  1 EQUIVALE A  0.670494606232\n",
      "KAGG EVAL VAL BAJO KERNEL  poly , C=  1  Y EPS=  1 EQUIVALE A  0.743259478111\n",
      "Representacion de aplicando Log() y escalando datos a las caracteristicas:  todas\n",
      "KAGG EVAL TRAIN BAJO KERNEL  linear , C=  1  Y EPS=  1 EQUIVALE A  0.62939187045\n",
      "KAGG EVAL VAL BAJO KERNEL  linear , C=  1  Y EPS=  1 EQUIVALE A  0.655101811086\n",
      "Representacion de aplicando Log() y escalando datos a las caracteristicas:  filtradas\n",
      "KAGG EVAL TRAIN BAJO KERNEL  linear , C=  1  Y EPS=  1 EQUIVALE A  0.629337195923\n",
      "KAGG EVAL VAL BAJO KERNEL  linear , C=  1  Y EPS=  1 EQUIVALE A  0.654947829\n",
      "Representacion de aplicando Log() y escalando datos a las caracteristicas:  todas\n",
      "KAGG EVAL TRAIN BAJO KERNEL  rbf , C=  10  Y EPS=  0.01 EQUIVALE A  0.122051150039\n",
      "KAGG EVAL VAL BAJO KERNEL  rbf , C=  10  Y EPS=  0.01 EQUIVALE A  0.322354712436\n",
      "Representacion de aplicando Log() y escalando datos a las caracteristicas:  filtradas\n",
      "KAGG EVAL TRAIN BAJO KERNEL  rbf , C=  10  Y EPS=  0.01 EQUIVALE A  0.160813044891\n",
      "KAGG EVAL VAL BAJO KERNEL  rbf , C=  10  Y EPS=  0.01 EQUIVALE A  0.339909782898\n",
      "Representacion de aplicando Log() y escalando datos a las caracteristicas:  todas\n",
      "KAGG EVAL TRAIN BAJO KERNEL  poly , C=  10  Y EPS=  0.01 EQUIVALE A  0.151526257155\n",
      "KAGG EVAL VAL BAJO KERNEL  poly , C=  10  Y EPS=  0.01 EQUIVALE A  0.430868692488\n",
      "Representacion de aplicando Log() y escalando datos a las caracteristicas:  filtradas\n",
      "KAGG EVAL TRAIN BAJO KERNEL  poly , C=  10  Y EPS=  0.01 EQUIVALE A  0.191418507936\n",
      "KAGG EVAL VAL BAJO KERNEL  poly , C=  10  Y EPS=  0.01 EQUIVALE A  0.424492163781\n",
      "Representacion de aplicando Log() y escalando datos a las caracteristicas:  todas\n",
      "KAGG EVAL TRAIN BAJO KERNEL  linear , C=  10  Y EPS=  0.01 EQUIVALE A  0.616274279523\n",
      "KAGG EVAL VAL BAJO KERNEL  linear , C=  10  Y EPS=  0.01 EQUIVALE A  0.606958770568\n",
      "Representacion de aplicando Log() y escalando datos a las caracteristicas:  filtradas\n",
      "KAGG EVAL TRAIN BAJO KERNEL  linear , C=  10  Y EPS=  0.01 EQUIVALE A  0.617031707213\n",
      "KAGG EVAL VAL BAJO KERNEL  linear , C=  10  Y EPS=  0.01 EQUIVALE A  0.609089720479\n",
      "Representacion de aplicando Log() y escalando datos a las caracteristicas:  todas\n",
      "KAGG EVAL TRAIN BAJO KERNEL  rbf , C=  10  Y EPS=  1 EQUIVALE A  0.618488708628\n",
      "KAGG EVAL VAL BAJO KERNEL  rbf , C=  10  Y EPS=  1 EQUIVALE A  0.672313951584\n",
      "Representacion de aplicando Log() y escalando datos a las caracteristicas:  filtradas\n",
      "KAGG EVAL TRAIN BAJO KERNEL  rbf , C=  10  Y EPS=  1 EQUIVALE A  0.618114716825\n",
      "KAGG EVAL VAL BAJO KERNEL  rbf , C=  10  Y EPS=  1 EQUIVALE A  0.674070575261\n",
      "Representacion de aplicando Log() y escalando datos a las caracteristicas:  todas\n",
      "KAGG EVAL TRAIN BAJO KERNEL  poly , C=  10  Y EPS=  1 EQUIVALE A  0.663022922552\n",
      "KAGG EVAL VAL BAJO KERNEL  poly , C=  10  Y EPS=  1 EQUIVALE A  0.738798081641\n",
      "Representacion de aplicando Log() y escalando datos a las caracteristicas:  filtradas\n"
     ]
    },
    {
     "name": "stdout",
     "output_type": "stream",
     "text": [
      "KAGG EVAL TRAIN BAJO KERNEL  poly , C=  10  Y EPS=  1 EQUIVALE A  0.665546301948\n",
      "KAGG EVAL VAL BAJO KERNEL  poly , C=  10  Y EPS=  1 EQUIVALE A  0.743066320607\n",
      "Representacion de aplicando Log() y escalando datos a las caracteristicas:  todas\n",
      "KAGG EVAL TRAIN BAJO KERNEL  linear , C=  10  Y EPS=  1 EQUIVALE A  0.629065086043\n",
      "KAGG EVAL VAL BAJO KERNEL  linear , C=  10  Y EPS=  1 EQUIVALE A  0.654675070139\n",
      "Representacion de aplicando Log() y escalando datos a las caracteristicas:  filtradas\n",
      "KAGG EVAL TRAIN BAJO KERNEL  linear , C=  10  Y EPS=  1 EQUIVALE A  0.629324508797\n",
      "KAGG EVAL VAL BAJO KERNEL  linear , C=  10  Y EPS=  1 EQUIVALE A  0.654955157923\n",
      "Representacion de aplicando Log() y escalando datos a las caracteristicas:  todas\n",
      "KAGG EVAL TRAIN BAJO KERNEL  rbf , C=  1000  Y EPS=  0.01 EQUIVALE A  0.0198863601744\n",
      "KAGG EVAL VAL BAJO KERNEL  rbf , C=  1000  Y EPS=  0.01 EQUIVALE A  0.423182715989\n",
      "Representacion de aplicando Log() y escalando datos a las caracteristicas:  filtradas\n",
      "KAGG EVAL TRAIN BAJO KERNEL  rbf , C=  1000  Y EPS=  0.01 EQUIVALE A  0.091186528546\n",
      "KAGG EVAL VAL BAJO KERNEL  rbf , C=  1000  Y EPS=  0.01 EQUIVALE A  0.478130352466\n",
      "Representacion de aplicando Log() y escalando datos a las caracteristicas:  todas\n"
     ]
    }
   ],
   "source": [
    "for item in combina2:\n",
    "    C=item[0]\n",
    "    epsilon=item[1]\n",
    "    kernel=item[2]\n",
    "    feat=item[3]\n",
    "    t,v= iterar_kernels(kernel, C, epsilon, feat)\n",
    "    print (\"KAGG EVAL TRAIN BAJO KERNEL \",kernel,\", C= \", C, \" Y EPS= \", epsilon, \"EQUIVALE A \", t)\n",
    "    print (\"KAGG EVAL VAL BAJO KERNEL \",kernel,\", C= \", C, \" Y EPS= \", epsilon, \"EQUIVALE A \", v)"
   ]
  },
  {
   "cell_type": "markdown",
   "metadata": {},
   "source": [
    "La configuración que acusa el menor error de validación equivale a: \n",
    "\n",
    "###### Kernel: RBF,   Epsilon: 0.01,   C: 1,   features: todas \n",
    "###### Error de entrenamiento: 21.8523882487 % \n",
    "###### Error de validación: 29.2759342642 % \n",
    "\n",
    "Por ello se propone aplicar dichos parámetros a la máquina de soporte vectorial con el fin de obtener el error sobre el conjunto de testing.  \n",
    "Se observa que efectivamente se logra una mejora en términos del error de validación (0.05% app) respecto al logro previo (29.3279%).  \n",
    "Si bien este valor no representa un aumento considerable, es notable la robustez de una SVM cuando se varian los parámetros de ésta."
   ]
  },
  {
   "cell_type": "code",
   "execution_count": 56,
   "metadata": {},
   "outputs": [
    {
     "name": "stdout",
     "output_type": "stream",
     "text": [
      "KAGG EVAL TRAIN =0.218524\n",
      "KAGG EVAL VAL =0.292759\n",
      "KAGG EVAL TEST =0.323682\n"
     ]
    }
   ],
   "source": [
    "X_train,Y_train,X_val,Y_val,X_test,Y_test = categorizar(df2,\"todas\")\n",
    "model = SVR(C=1,epsilon=0.01, kernel='rbf')\n",
    "Y_train= np.log(Y_train+1)\n",
    "model.fit(X_train,Y_train)\n",
    "Y_pred_train= model.predict(X_train)\n",
    "Y_pred_val = model.predict(X_val)\n",
    "Y_pred_test = model.predict(X_test)\n",
    "Y_train=np.exp(Y_train)-1\n",
    "Y_pred_train=np.exp(Y_pred_train)-1\n",
    "Y_pred_val=np.exp(Y_pred_val)-1\n",
    "Y_pred_test=np.exp(Y_pred_test)-1\n",
    "kagg_train = eval_bikemodel(Y_pred_train,Y_train)\n",
    "kagg_val = eval_bikemodel(Y_pred_val,Y_val)\n",
    "kagg_test = eval_bikemodel(Y_pred_test,Y_test)\n",
    "print (\"KAGG EVAL TRAIN =%f\"%kagg_train)\n",
    "print (\"KAGG EVAL VAL =%f\"%kagg_val)\n",
    "print (\"KAGG EVAL TEST =%f\"%kagg_test)\n",
    "#return kagg_train, kagg_val"
   ]
  },
  {
   "cell_type": "markdown",
   "metadata": {},
   "source": [
    "Ahora bien, en términos del error sobre el conjunto de testeo, no se evidencia ninguna mejora. Es más, el error aumenta en un 0.18%.   "
   ]
  },
  {
   "cell_type": "markdown",
   "metadata": {
    "collapsed": true
   },
   "source": [
    "#### G. Utilización del dataset de validación para el entrenamiento, cross validation \n",
    "\n",
    "A continuación se evalúa el efecto de utilizar el dataset de validación para entrenamiento tanto para la selección de los parámetros del árbol regresor como para la SVM haciendo uso de validación cruzada.  \n",
    "\n",
    "La validación cruzada es una técnica utilizada para evaluar los resultados de un análisis estadístico y probar la independencia de la partición hecha para datos de entrenamiento y validación. Dado un número de iteraciones, en cada una de ellas se modela una nueva máquina tal que se obtenga el menor error de predicción en base a los datos de entrenamiento de la división ('fold'). Este valor variará dependiendo de las características de los datos utilizados en cada ciclo e indicará la precisión del modelo utilizado.  \n"
   ]
  },
  {
   "cell_type": "code",
   "execution_count": 84,
   "metadata": {},
   "outputs": [
    {
     "name": "stdout",
     "output_type": "stream",
     "text": [
      "Nuevo mejor desempeño:  0.984888715519 en el árbol de max_depth=  1\n",
      "Nuevo mejor desempeño:  0.919136255089 en el árbol de max_depth=  2\n",
      "Nuevo mejor desempeño:  0.825943287098 en el árbol de max_depth=  3\n",
      "Nuevo mejor desempeño:  0.753970235602 en el árbol de max_depth=  4\n",
      "Nuevo mejor desempeño:  0.632582694584 en el árbol de max_depth=  5\n",
      "Nuevo mejor desempeño:  0.579941110576 en el árbol de max_depth=  6\n",
      "Nuevo mejor desempeño:  0.536497308069 en el árbol de max_depth=  7\n",
      "Nuevo mejor desempeño:  0.463840777509 en el árbol de max_depth=  8\n",
      "Nuevo mejor desempeño:  0.431120440147 en el árbol de max_depth=  9\n",
      "Nuevo mejor desempeño:  0.417723058197 en el árbol de max_depth=  10\n",
      "Nuevo mejor desempeño:  0.41378585351 en el árbol de max_depth=  11\n",
      "El i-esimo arbol de mejor desempeño es:  11\n"
     ]
    }
   ],
   "source": [
    "from sklearn.model_selection import KFold\n",
    "\n",
    "X_train,Y_train,X_val,Y_val,X_test,Y_test = caracterizar(df2,\"filtradas-3\")\n",
    "XTnew_train= np.vstack((X_train, X_val))\n",
    "YTnew_train= np.hstack((Y_train, Y_val))\n",
    "best=2\n",
    "i_esimo_best=0\n",
    "for i in range(1,30):\n",
    "    #cross validation Tree\n",
    "    kf = KFold(n_splits=10)\n",
    "    kagg_cv = 0\n",
    "    for train, val in kf.split(XTnew_train):\n",
    "        #model = SVR(C=1,epsilon=0.01, kernel='rbf')\n",
    "        model = Tree(random_state=0,max_depth=i)\n",
    "        model.fit(XTnew_train[train], YTnew_train[train])\n",
    "        yhat_val = model.predict(XTnew_train[val])\n",
    "        ytrue_val = YTnew_train[val]\n",
    "        score_fold = eval_bikemodel(yhat_val,ytrue_val)\n",
    "        kagg_cv += score_fold\n",
    "    kagg_cv = kagg_cv / 10\n",
    "    if kagg_cv<best:\n",
    "        print (\"Nuevo mejor desempeño: \", kagg_cv, \"en el árbol de max_depth= \", i)\n",
    "        best= kagg_cv\n",
    "        i_esimo_best=i\n",
    "\n",
    "print (\"El i-esimo arbol de mejor desempeño es: \", i_esimo_best)\n",
    "    "
   ]
  },
  {
   "cell_type": "code",
   "execution_count": 81,
   "metadata": {},
   "outputs": [
    {
     "name": "stdout",
     "output_type": "stream",
     "text": [
      "KAGG EVAL TRAIN =0.265691\n",
      "KAGG EVAL TEST =0.391066\n"
     ]
    }
   ],
   "source": [
    "modelCV_T = Tree(random_state=0,max_depth=11)\n",
    "modelCV_T.fit(XTnew_train,YTnew_train) \n",
    "Y_pred_train= modelCV_T.predict(XTnew_train)\n",
    "Y_pred_test= modelCV_T.predict(X_test)\n",
    "kagg_train = eval_bikemodel(Y_pred_train,YTnew_train)\n",
    "kagg_test= eval_bikemodel(Y_pred_test,Y_test)\n",
    "print (\"KAGG EVAL TRAIN =%f\"%kagg_train)\n",
    "print (\"KAGG EVAL TEST =%f\"%kagg_test)"
   ]
  },
  {
   "cell_type": "code",
   "execution_count": 91,
   "metadata": {},
   "outputs": [
    {
     "name": "stdout",
     "output_type": "stream",
     "text": [
      "Nuevo mejor desempeño: 1.06414382658 en SVM de C= 0.01 y epsilon= 0.01\n",
      "Nuevo mejor desempeño: 1.06228318533 en SVM de C= 0.01 y epsilon= 0.1\n",
      "Nuevo mejor desempeño: 0.449465939453 en SVM de C= 0.1 y epsilon= 0.01\n",
      "Nuevo mejor desempeño: 0.313898639321 en SVM de C= 1 y epsilon= 0.01\n",
      "Nuevo mejor desempeño: 0.311738526088 en SVM de C= 1 y epsilon= 0.1\n"
     ]
    }
   ],
   "source": [
    "#cross validation SVR\n",
    "from sklearn.model_selection import KFold\n",
    "#Kernel: RBF, Epsilon: 0.01, C: 1, features: todas\n",
    "X_train,Y_train,X_val,Y_val,X_test,Y_test = categorizar(df2,\"todas\")\n",
    "XTnew_train= np.vstack((X_train, X_val))\n",
    "YTnew_train= np.hstack((Y_train, Y_val))\n",
    "\n",
    "YTnew_train= np.log(YTnew_train+1)\n",
    "\n",
    "Cs=[0.01, 0.1, 1]\n",
    "Eps=[0.01, 0.1, 1]\n",
    "best=2\n",
    "c_best=0\n",
    "eps_best= 0\n",
    "for i in Cs: #C\n",
    "    for j in Eps: #epsilon\n",
    "        #cross validation SVR\n",
    "        kf = KFold(n_splits=10)\n",
    "        kagg_cv = 0\n",
    "        for train, val in kf.split(XTnew_train):\n",
    "            model = SVR(C=i,epsilon=j, kernel='rbf')\n",
    "            model.fit(XTnew_train[train], YTnew_train[train])\n",
    "            yhat_val = model.predict(XTnew_train[val])\n",
    "            ytrue_val = np.exp(YTnew_train[val])-1\n",
    "            yhat_val= np.exp(yhat_val)-1\n",
    "            score_fold = eval_bikemodel(yhat_val,ytrue_val)\n",
    "            kagg_cv += score_fold\n",
    "        kagg_cv = kagg_cv / 10\n",
    "        if kagg_cv<best:\n",
    "            print (\"Nuevo mejor desempeño:\", kagg_cv, \"en SVM de C=\", i, \"y epsilon=\", j)\n",
    "            best= kagg_cv\n",
    "            c_best=i\n",
    "            eps_best=j"
   ]
  },
  {
   "cell_type": "code",
   "execution_count": 98,
   "metadata": {},
   "outputs": [
    {
     "name": "stdout",
     "output_type": "stream",
     "text": [
      "KAGG EVAL TRAIN =0.220670\n",
      "KAGG EVAL TEST =0.315039\n"
     ]
    }
   ],
   "source": [
    "X_train,Y_train,X_val,Y_val,X_test,Y_test = categorizar(df2,\"todas\")\n",
    "XTnew_train= np.vstack((X_train, X_val))\n",
    "YTnew_train= np.hstack((Y_train, Y_val))\n",
    "YTnew_train= np.log(YTnew_train+1)\n",
    "model = SVR(C=1,epsilon=0.1, kernel='rbf')\n",
    "model.fit(XTnew_train,YTnew_train)\n",
    "Y_pred_train= model.predict(XTnew_train)\n",
    "Y_pred_test= model.predict(X_test)\n",
    "YTnew_train=np.exp(YTnew_train)-1\n",
    "Y_pred_train=np.exp(Y_pred_train)-1\n",
    "Y_pred_test=np.exp(Y_pred_test)-1\n",
    "kagg_train = eval_bikemodel(Y_pred_train,YTnew_train)\n",
    "kagg_test = eval_bikemodel(Y_pred_test,Y_test)\n",
    "print (\"KAGG EVAL TRAIN =%f\"%kagg_train)\n",
    "print (\"KAGG EVAL TEST =%f\"%kagg_test)"
   ]
  },
  {
   "cell_type": "markdown",
   "metadata": {},
   "source": [
    "### comentar lo que se observa"
   ]
  },
  {
   "cell_type": "markdown",
   "metadata": {
    "collapsed": true
   },
   "source": [
    "#### H. Evaluar el efecto de utilizar un ensamblado de 2 m´aquinas de aprendizaje para predecir la demanda total de bicicletas. Un modelo se especializar´a en la predicci´on de la demanda de bicicletas de parte de usuarios registrados y otra en la predicci´on de la demanda de usuarios casuales. Hay razones claras para pensar que los patrones son distintos."
   ]
  },
  {
   "cell_type": "code",
   "execution_count": null,
   "metadata": {
    "collapsed": true
   },
   "outputs": [],
   "source": [
    "Ydf=df.ix[:,'count'] #demanda total\n",
    "Ydf=df.ix[:,'registered'] #demanda registrada\n",
    "Ydf=df.ix[:,'casual'] #demanda casual"
   ]
  },
  {
   "cell_type": "markdown",
   "metadata": {
    "collapsed": true
   },
   "source": [
    "#### I. Evaluar el efecto de utilizar un algoritmo genérico para ensamblar máquinas de aprendizaje para predecir la demanda total de bicicletas. \n",
    "\n",
    "# discuta la evoluci´on a medida que aumenta el n´umero de m´aquinas"
   ]
  },
  {
   "cell_type": "code",
   "execution_count": 93,
   "metadata": {},
   "outputs": [
    {
     "name": "stdout",
     "output_type": "stream",
     "text": [
      "KAGG EVAL TRAIN =0.265022\n",
      "KAGG EVAL TRAIN =0.347335\n"
     ]
    }
   ],
   "source": [
    "from sklearn.ensemble import RandomForestRegressor as RFR\n",
    "\n",
    "X_train,Y_train,X_val,Y_val,X_test,Y_test = caracterizar(df2,\"filtradas-3\") \n",
    "modelRFR = RFR(n_estimators=10,max_depth=11,random_state=0)\n",
    "modelRFR.fit(X_train, Y_train)\n",
    "y_pred_train=modelRFR.predict(X_train)\n",
    "y_pred_val=modelRFR.predict(X_val)\n",
    "kagg_train = eval_bikemodel(y_pred_train,Y_train)\n",
    "print (\"KAGG EVAL TRAIN =%f\"%kagg_train)\n",
    "kagg_val = eval_bikemodel(y_pred_val,Y_val)\n",
    "print (\"KAGG EVAL TRAIN =%f\"%kagg_val)"
   ]
  },
  {
   "cell_type": "code",
   "execution_count": 95,
   "metadata": {},
   "outputs": [
    {
     "name": "stdout",
     "output_type": "stream",
     "text": [
      "KAGG EVAL TRAIN =0.262145\n",
      "KAGG EVAL TRAIN =0.347942\n"
     ]
    }
   ],
   "source": [
    "modelRFR = RFR(n_estimators=15,max_depth=11,random_state=0)\n",
    "modelRFR.fit(X_train, Y_train)\n",
    "y_pred_train=modelRFR.predict(X_train)\n",
    "y_pred_val=modelRFR.predict(X_val)\n",
    "kagg_train = eval_bikemodel(y_pred_train,Y_train)\n",
    "print (\"KAGG EVAL TRAIN =%f\"%kagg_train)\n",
    "kagg_val = eval_bikemodel(y_pred_val,Y_val)\n",
    "print (\"KAGG EVAL TRAIN =%f\"%kagg_val)"
   ]
  },
  {
   "cell_type": "code",
   "execution_count": 103,
   "metadata": {},
   "outputs": [
    {
     "name": "stdout",
     "output_type": "stream",
     "text": [
      "n_estimator: 5\n",
      "KAGG EVAL TRAIN: 0.273947341038 KAGG EVAL TRAIN: 0.355257986226 \n",
      "\n",
      "n_estimator: 6\n",
      "KAGG EVAL TRAIN: 0.26982241968 KAGG EVAL TRAIN: 0.353438526352 \n",
      "\n",
      "n_estimator: 7\n",
      "KAGG EVAL TRAIN: 0.266857896722 KAGG EVAL TRAIN: 0.350455228122 \n",
      "\n",
      "n_estimator: 8\n",
      "KAGG EVAL TRAIN: 0.265723335399 KAGG EVAL TRAIN: 0.349447861087 \n",
      "\n",
      "n_estimator: 9\n",
      "KAGG EVAL TRAIN: 0.265826461256 KAGG EVAL TRAIN: 0.349504235596 \n",
      "\n",
      "n_estimator: 10\n",
      "KAGG EVAL TRAIN: 0.265021585849 KAGG EVAL TRAIN: 0.347335373873 \n",
      "\n",
      "n_estimator: 11\n",
      "KAGG EVAL TRAIN: 0.266213452971 KAGG EVAL TRAIN: 0.349974379388 \n",
      "\n",
      "n_estimator: 12\n",
      "KAGG EVAL TRAIN: 0.264369193018 KAGG EVAL TRAIN: 0.348921915866 \n",
      "\n",
      "n_estimator: 13\n",
      "KAGG EVAL TRAIN: 0.263238156976 KAGG EVAL TRAIN: 0.348242999202 \n",
      "\n",
      "n_estimator: 14\n",
      "KAGG EVAL TRAIN: 0.262518313786 KAGG EVAL TRAIN: 0.347266841139 \n",
      "\n",
      "n_estimator: 15\n",
      "KAGG EVAL TRAIN: 0.262144753262 KAGG EVAL TRAIN: 0.347942175033 \n",
      "\n",
      "n_estimator: 16\n",
      "KAGG EVAL TRAIN: 0.261760372403 KAGG EVAL TRAIN: 0.346521563541 \n",
      "\n",
      "n_estimator: 17\n",
      "KAGG EVAL TRAIN: 0.260446420059 KAGG EVAL TRAIN: 0.346143807892 \n",
      "\n",
      "n_estimator: 18\n",
      "KAGG EVAL TRAIN: 0.259779901492 KAGG EVAL TRAIN: 0.345081285638 \n",
      "\n",
      "n_estimator: 19\n",
      "KAGG EVAL TRAIN: 0.260061286666 KAGG EVAL TRAIN: 0.344876675748 \n",
      "\n",
      "n_estimator: 20\n",
      "KAGG EVAL TRAIN: 0.259972198793 KAGG EVAL TRAIN: 0.344241249103 \n",
      "\n",
      "n_estimator: 21\n",
      "KAGG EVAL TRAIN: 0.26030843817 KAGG EVAL TRAIN: 0.344732071416 \n",
      "\n",
      "n_estimator: 22\n",
      "KAGG EVAL TRAIN: 0.260066468723 KAGG EVAL TRAIN: 0.345178127307 \n",
      "\n",
      "n_estimator: 23\n",
      "KAGG EVAL TRAIN: 0.259629124232 KAGG EVAL TRAIN: 0.344359637933 \n",
      "\n",
      "n_estimator: 24\n",
      "KAGG EVAL TRAIN: 0.259644491223 KAGG EVAL TRAIN: 0.344221836425 \n",
      "\n",
      "n_estimator: 25\n",
      "KAGG EVAL TRAIN: 0.259317403972 KAGG EVAL TRAIN: 0.344079147173 \n",
      "\n",
      "n_estimator: 26\n",
      "KAGG EVAL TRAIN: 0.259573934873 KAGG EVAL TRAIN: 0.344351480404 \n",
      "\n",
      "n_estimator: 27\n",
      "KAGG EVAL TRAIN: 0.259281557749 KAGG EVAL TRAIN: 0.344554610434 \n",
      "\n",
      "n_estimator: 28\n",
      "KAGG EVAL TRAIN: 0.259342186054 KAGG EVAL TRAIN: 0.344521241628 \n",
      "\n",
      "n_estimator: 29\n",
      "KAGG EVAL TRAIN: 0.259071824918 KAGG EVAL TRAIN: 0.344141249282 \n",
      "\n",
      "n_estimator: 30\n",
      "KAGG EVAL TRAIN: 0.258769928705 KAGG EVAL TRAIN: 0.343959925628 \n",
      "\n",
      "n_estimator: 31\n",
      "KAGG EVAL TRAIN: 0.258452220343 KAGG EVAL TRAIN: 0.344529236988 \n",
      "\n",
      "n_estimator: 32\n",
      "KAGG EVAL TRAIN: 0.258152639776 KAGG EVAL TRAIN: 0.344262993776 \n",
      "\n",
      "n_estimator: 33\n",
      "KAGG EVAL TRAIN: 0.257831675457 KAGG EVAL TRAIN: 0.34394507663 \n",
      "\n",
      "n_estimator: 34\n",
      "KAGG EVAL TRAIN: 0.257716500386 KAGG EVAL TRAIN: 0.343947811392 \n",
      "\n"
     ]
    }
   ],
   "source": [
    "X_train,Y_train,X_val,Y_val,X_test,Y_test = caracterizar(df2,\"filtradas-3\") \n",
    "trains=[]\n",
    "vals=[]\n",
    "for i in range(5,35):\n",
    "    print (\"n_estimator:\", i)\n",
    "    modelRFR = RFR(n_estimators=i,max_depth=11,random_state=0)\n",
    "    modelRFR.fit(X_train, Y_train)\n",
    "    y_pred_train=modelRFR.predict(X_train)\n",
    "    y_pred_val=modelRFR.predict(X_val)\n",
    "    kagg_train = eval_bikemodel(y_pred_train,Y_train)\n",
    "    trains.append(kagg_train)\n",
    "    kagg_val = eval_bikemodel(y_pred_val,Y_val)\n",
    "    print (\"KAGG EVAL TRAIN:\", kagg_train, \"KAGG EVAL TRAIN:\", kagg_val,\"\\n\")\n",
    "    vals.append(kagg_val)"
   ]
  }
 ],
 "metadata": {
  "kernelspec": {
   "display_name": "Python 3",
   "language": "python",
   "name": "python3"
  },
  "language_info": {
   "codemirror_mode": {
    "name": "ipython",
    "version": 3
   },
   "file_extension": ".py",
   "mimetype": "text/x-python",
   "name": "python",
   "nbconvert_exporter": "python",
   "pygments_lexer": "ipython3",
   "version": "3.6.2"
  }
 },
 "nbformat": 4,
 "nbformat_minor": 2
}
